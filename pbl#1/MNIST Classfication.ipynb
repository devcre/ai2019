{
 "cells": [
  {
   "cell_type": "markdown",
   "metadata": {},
   "source": [
    "# MNIST Classification\n",
    "\n",
    "version 1.0"
   ]
  },
  {
   "cell_type": "markdown",
   "metadata": {},
   "source": [
    "## 데이터 불러오기"
   ]
  },
  {
   "cell_type": "code",
   "execution_count": 1,
   "metadata": {},
   "outputs": [],
   "source": [
    "import os\n",
    "import struct\n",
    "import numpy as np\n",
    "import matplotlib.pyplot as pyplot\n",
    "\n",
    "\"\"\"\n",
    "Loosely inspired by http://abel.ee.ucla.edu/cvxopt/_downloads/mnist.py\n",
    "which is GPL licensed.\n",
    "\"\"\"\n",
    "\n",
    "def read(dataset = \"training\", path = \".\"):\n",
    "    \"\"\"\n",
    "    Python function for importing the MNIST data set.  It returns an iterator\n",
    "    of 2-tuples with the first element being the label and the second element\n",
    "    being a numpy.uint8 2D array of pixel data for the given image.\n",
    "    \"\"\"\n",
    "\n",
    "    if dataset is \"training\":\n",
    "        fname_img = os.path.join(path, 'train-images-idx3-ubyte')\n",
    "        fname_lbl = os.path.join(path, 'train-labels-idx1-ubyte')\n",
    "    elif dataset is \"testing\":\n",
    "        fname_img = os.path.join(path, 't10k-images-idx3-ubyte')\n",
    "        fname_lbl = os.path.join(path, 't10k-labels-idx1-ubyte')\n",
    "    else:\n",
    "        raise Exception(\"dataset must be 'testing' or 'training'\")\n",
    "\n",
    "    # Load everything in some numpy arrays\n",
    "    with open(fname_lbl, 'rb') as flbl:\n",
    "        magic, num = struct.unpack(\">II\", flbl.read(8))\n",
    "        lbl = np.fromfile(flbl, dtype=np.int8)\n",
    "        \n",
    "    with open(fname_img, 'rb') as fimg:\n",
    "        magic, num, rows, cols = struct.unpack(\">IIII\", fimg.read(16))\n",
    "        img = np.fromfile(fimg, dtype=np.uint8).reshape(len(lbl), rows, cols)\n",
    "\n",
    "    get_img = lambda idx: (lbl[idx], img[idx])\n",
    "\n",
    "    # Create an iterator which returns each image in turn\n",
    "    for i in range(len(lbl)):\n",
    "        yield get_img(i)\n",
    "\n",
    "def show(image):\n",
    "    \"\"\"\n",
    "    Render a given numpy.uint8 2D array of pixel data.\n",
    "    \"\"\"\n",
    "    from matplotlib import pyplot\n",
    "    import matplotlib as mpl\n",
    "    fig = pyplot.figure()\n",
    "    ax = fig.add_subplot(1,1,1)\n",
    "    imgplot = ax.imshow(image, cmap=mpl.cm.Greys)\n",
    "    imgplot.set_interpolation('nearest')\n",
    "    ax.xaxis.set_ticks_position('top')\n",
    "    ax.yaxis.set_ticks_position('left')\n",
    "pyplot.show()"
   ]
  },
  {
   "cell_type": "code",
   "execution_count": 2,
   "metadata": {},
   "outputs": [],
   "source": [
    "# 아래 링크 수정"
   ]
  },
  {
   "cell_type": "code",
   "execution_count": 3,
   "metadata": {},
   "outputs": [],
   "source": [
    "tr = list(read(\"training\", r\"C:\\Users\\Mecors\\Downloads\"))\n",
    "te = list(read(\"testing\", r\"C:\\Users\\Mecors\\Downloads\"))"
   ]
  },
  {
   "cell_type": "code",
   "execution_count": 4,
   "metadata": {},
   "outputs": [
    {
     "data": {
      "text/plain": [
       "60000"
      ]
     },
     "execution_count": 4,
     "metadata": {},
     "output_type": "execute_result"
    }
   ],
   "source": [
    "len(tr)"
   ]
  },
  {
   "cell_type": "code",
   "execution_count": 5,
   "metadata": {},
   "outputs": [
    {
     "data": {
      "text/plain": [
       "10000"
      ]
     },
     "execution_count": 5,
     "metadata": {},
     "output_type": "execute_result"
    }
   ],
   "source": [
    "len(te)"
   ]
  },
  {
   "cell_type": "code",
   "execution_count": 6,
   "metadata": {},
   "outputs": [],
   "source": [
    "import pandas as pd"
   ]
  },
  {
   "cell_type": "code",
   "execution_count": 7,
   "metadata": {},
   "outputs": [],
   "source": [
    "label, pixel = tr[0]\n",
    "pixel = pixel.reshape(784)\n",
    "tr_label = np.array((label))\n",
    "tr_image = pixel\n",
    "\n",
    "for i in range(1, 1000): #숫자 수정 필요!\n",
    "    temp_label, temp_pixel = tr[i]\n",
    "    temp_pixel = temp_pixel.reshape(784)\n",
    "    tr_image = np.vstack((tr_image, temp_pixel))\n",
    "    tr_label = np.vstack((tr_label, temp_label))"
   ]
  },
  {
   "cell_type": "code",
   "execution_count": 8,
   "metadata": {},
   "outputs": [
    {
     "name": "stdout",
     "output_type": "stream",
     "text": [
      "(1000, 784)\n",
      "(1000, 1)\n"
     ]
    }
   ],
   "source": [
    "print(tr_image.shape)\n",
    "print(tr_label.shape)"
   ]
  },
  {
   "cell_type": "code",
   "execution_count": 9,
   "metadata": {},
   "outputs": [],
   "source": [
    "#트레이닝 데이터 프래임 만들기\n",
    "tr_data = np.hstack((tr_image, tr_label))\n",
    "tr_data_df = pd.DataFrame(tr_data)\n",
    "tr_data_df = tr_data_df.rename(columns={784:\"label\"})\n",
    "\n",
    "X_tr_data = tr_data_df.drop('label', axis=1)\n",
    "y_tr_data = tr_data_df['label']"
   ]
  },
  {
   "cell_type": "code",
   "execution_count": 10,
   "metadata": {},
   "outputs": [
    {
     "data": {
      "text/html": [
       "<div>\n",
       "<style scoped>\n",
       "    .dataframe tbody tr th:only-of-type {\n",
       "        vertical-align: middle;\n",
       "    }\n",
       "\n",
       "    .dataframe tbody tr th {\n",
       "        vertical-align: top;\n",
       "    }\n",
       "\n",
       "    .dataframe thead th {\n",
       "        text-align: right;\n",
       "    }\n",
       "</style>\n",
       "<table border=\"1\" class=\"dataframe\">\n",
       "  <thead>\n",
       "    <tr style=\"text-align: right;\">\n",
       "      <th></th>\n",
       "      <th>0</th>\n",
       "      <th>1</th>\n",
       "      <th>2</th>\n",
       "      <th>3</th>\n",
       "      <th>4</th>\n",
       "      <th>5</th>\n",
       "      <th>6</th>\n",
       "      <th>7</th>\n",
       "      <th>8</th>\n",
       "      <th>9</th>\n",
       "      <th>...</th>\n",
       "      <th>774</th>\n",
       "      <th>775</th>\n",
       "      <th>776</th>\n",
       "      <th>777</th>\n",
       "      <th>778</th>\n",
       "      <th>779</th>\n",
       "      <th>780</th>\n",
       "      <th>781</th>\n",
       "      <th>782</th>\n",
       "      <th>783</th>\n",
       "    </tr>\n",
       "  </thead>\n",
       "  <tbody>\n",
       "    <tr>\n",
       "      <td>0</td>\n",
       "      <td>0</td>\n",
       "      <td>0</td>\n",
       "      <td>0</td>\n",
       "      <td>0</td>\n",
       "      <td>0</td>\n",
       "      <td>0</td>\n",
       "      <td>0</td>\n",
       "      <td>0</td>\n",
       "      <td>0</td>\n",
       "      <td>0</td>\n",
       "      <td>...</td>\n",
       "      <td>0</td>\n",
       "      <td>0</td>\n",
       "      <td>0</td>\n",
       "      <td>0</td>\n",
       "      <td>0</td>\n",
       "      <td>0</td>\n",
       "      <td>0</td>\n",
       "      <td>0</td>\n",
       "      <td>0</td>\n",
       "      <td>0</td>\n",
       "    </tr>\n",
       "    <tr>\n",
       "      <td>1</td>\n",
       "      <td>0</td>\n",
       "      <td>0</td>\n",
       "      <td>0</td>\n",
       "      <td>0</td>\n",
       "      <td>0</td>\n",
       "      <td>0</td>\n",
       "      <td>0</td>\n",
       "      <td>0</td>\n",
       "      <td>0</td>\n",
       "      <td>0</td>\n",
       "      <td>...</td>\n",
       "      <td>0</td>\n",
       "      <td>0</td>\n",
       "      <td>0</td>\n",
       "      <td>0</td>\n",
       "      <td>0</td>\n",
       "      <td>0</td>\n",
       "      <td>0</td>\n",
       "      <td>0</td>\n",
       "      <td>0</td>\n",
       "      <td>0</td>\n",
       "    </tr>\n",
       "    <tr>\n",
       "      <td>2</td>\n",
       "      <td>0</td>\n",
       "      <td>0</td>\n",
       "      <td>0</td>\n",
       "      <td>0</td>\n",
       "      <td>0</td>\n",
       "      <td>0</td>\n",
       "      <td>0</td>\n",
       "      <td>0</td>\n",
       "      <td>0</td>\n",
       "      <td>0</td>\n",
       "      <td>...</td>\n",
       "      <td>0</td>\n",
       "      <td>0</td>\n",
       "      <td>0</td>\n",
       "      <td>0</td>\n",
       "      <td>0</td>\n",
       "      <td>0</td>\n",
       "      <td>0</td>\n",
       "      <td>0</td>\n",
       "      <td>0</td>\n",
       "      <td>0</td>\n",
       "    </tr>\n",
       "    <tr>\n",
       "      <td>3</td>\n",
       "      <td>0</td>\n",
       "      <td>0</td>\n",
       "      <td>0</td>\n",
       "      <td>0</td>\n",
       "      <td>0</td>\n",
       "      <td>0</td>\n",
       "      <td>0</td>\n",
       "      <td>0</td>\n",
       "      <td>0</td>\n",
       "      <td>0</td>\n",
       "      <td>...</td>\n",
       "      <td>0</td>\n",
       "      <td>0</td>\n",
       "      <td>0</td>\n",
       "      <td>0</td>\n",
       "      <td>0</td>\n",
       "      <td>0</td>\n",
       "      <td>0</td>\n",
       "      <td>0</td>\n",
       "      <td>0</td>\n",
       "      <td>0</td>\n",
       "    </tr>\n",
       "    <tr>\n",
       "      <td>4</td>\n",
       "      <td>0</td>\n",
       "      <td>0</td>\n",
       "      <td>0</td>\n",
       "      <td>0</td>\n",
       "      <td>0</td>\n",
       "      <td>0</td>\n",
       "      <td>0</td>\n",
       "      <td>0</td>\n",
       "      <td>0</td>\n",
       "      <td>0</td>\n",
       "      <td>...</td>\n",
       "      <td>0</td>\n",
       "      <td>0</td>\n",
       "      <td>0</td>\n",
       "      <td>0</td>\n",
       "      <td>0</td>\n",
       "      <td>0</td>\n",
       "      <td>0</td>\n",
       "      <td>0</td>\n",
       "      <td>0</td>\n",
       "      <td>0</td>\n",
       "    </tr>\n",
       "  </tbody>\n",
       "</table>\n",
       "<p>5 rows × 784 columns</p>\n",
       "</div>"
      ],
      "text/plain": [
       "   0    1    2    3    4    5    6    7    8    9    ...  774  775  776  777  \\\n",
       "0    0    0    0    0    0    0    0    0    0    0  ...    0    0    0    0   \n",
       "1    0    0    0    0    0    0    0    0    0    0  ...    0    0    0    0   \n",
       "2    0    0    0    0    0    0    0    0    0    0  ...    0    0    0    0   \n",
       "3    0    0    0    0    0    0    0    0    0    0  ...    0    0    0    0   \n",
       "4    0    0    0    0    0    0    0    0    0    0  ...    0    0    0    0   \n",
       "\n",
       "   778  779  780  781  782  783  \n",
       "0    0    0    0    0    0    0  \n",
       "1    0    0    0    0    0    0  \n",
       "2    0    0    0    0    0    0  \n",
       "3    0    0    0    0    0    0  \n",
       "4    0    0    0    0    0    0  \n",
       "\n",
       "[5 rows x 784 columns]"
      ]
     },
     "execution_count": 10,
     "metadata": {},
     "output_type": "execute_result"
    }
   ],
   "source": [
    "X_tr_data.head()"
   ]
  },
  {
   "cell_type": "code",
   "execution_count": 11,
   "metadata": {},
   "outputs": [
    {
     "data": {
      "text/plain": [
       "(1000,)"
      ]
     },
     "execution_count": 11,
     "metadata": {},
     "output_type": "execute_result"
    }
   ],
   "source": [
    "y_tr_data.shape"
   ]
  },
  {
   "cell_type": "markdown",
   "metadata": {},
   "source": [
    "# Scaling"
   ]
  },
  {
   "cell_type": "code",
   "execution_count": 12,
   "metadata": {},
   "outputs": [],
   "source": [
    "from sklearn.preprocessing import StandardScaler, MinMaxScaler\n",
    "\n",
    "st_scarler = StandardScaler()\n",
    "mm_scarler = MinMaxScaler()\n",
    "\n",
    "X_tr_st = pd.DataFrame(st_scarler.fit_transform(X_tr_data))\n",
    "X_tr_mm = pd.DataFrame(mm_scarler.fit_transform(X_tr_data))"
   ]
  },
  {
   "cell_type": "code",
   "execution_count": 13,
   "metadata": {},
   "outputs": [
    {
     "data": {
      "text/html": [
       "<div>\n",
       "<style scoped>\n",
       "    .dataframe tbody tr th:only-of-type {\n",
       "        vertical-align: middle;\n",
       "    }\n",
       "\n",
       "    .dataframe tbody tr th {\n",
       "        vertical-align: top;\n",
       "    }\n",
       "\n",
       "    .dataframe thead th {\n",
       "        text-align: right;\n",
       "    }\n",
       "</style>\n",
       "<table border=\"1\" class=\"dataframe\">\n",
       "  <thead>\n",
       "    <tr style=\"text-align: right;\">\n",
       "      <th></th>\n",
       "      <th>0</th>\n",
       "      <th>1</th>\n",
       "      <th>2</th>\n",
       "      <th>3</th>\n",
       "      <th>4</th>\n",
       "      <th>5</th>\n",
       "      <th>6</th>\n",
       "      <th>7</th>\n",
       "      <th>8</th>\n",
       "      <th>9</th>\n",
       "      <th>...</th>\n",
       "      <th>774</th>\n",
       "      <th>775</th>\n",
       "      <th>776</th>\n",
       "      <th>777</th>\n",
       "      <th>778</th>\n",
       "      <th>779</th>\n",
       "      <th>780</th>\n",
       "      <th>781</th>\n",
       "      <th>782</th>\n",
       "      <th>783</th>\n",
       "    </tr>\n",
       "  </thead>\n",
       "  <tbody>\n",
       "    <tr>\n",
       "      <td>0</td>\n",
       "      <td>0.0</td>\n",
       "      <td>0.0</td>\n",
       "      <td>0.0</td>\n",
       "      <td>0.0</td>\n",
       "      <td>0.0</td>\n",
       "      <td>0.0</td>\n",
       "      <td>0.0</td>\n",
       "      <td>0.0</td>\n",
       "      <td>0.0</td>\n",
       "      <td>0.0</td>\n",
       "      <td>...</td>\n",
       "      <td>-0.041522</td>\n",
       "      <td>-0.031639</td>\n",
       "      <td>0.0</td>\n",
       "      <td>0.0</td>\n",
       "      <td>0.0</td>\n",
       "      <td>0.0</td>\n",
       "      <td>0.0</td>\n",
       "      <td>0.0</td>\n",
       "      <td>0.0</td>\n",
       "      <td>0.0</td>\n",
       "    </tr>\n",
       "    <tr>\n",
       "      <td>1</td>\n",
       "      <td>0.0</td>\n",
       "      <td>0.0</td>\n",
       "      <td>0.0</td>\n",
       "      <td>0.0</td>\n",
       "      <td>0.0</td>\n",
       "      <td>0.0</td>\n",
       "      <td>0.0</td>\n",
       "      <td>0.0</td>\n",
       "      <td>0.0</td>\n",
       "      <td>0.0</td>\n",
       "      <td>...</td>\n",
       "      <td>-0.041522</td>\n",
       "      <td>-0.031639</td>\n",
       "      <td>0.0</td>\n",
       "      <td>0.0</td>\n",
       "      <td>0.0</td>\n",
       "      <td>0.0</td>\n",
       "      <td>0.0</td>\n",
       "      <td>0.0</td>\n",
       "      <td>0.0</td>\n",
       "      <td>0.0</td>\n",
       "    </tr>\n",
       "    <tr>\n",
       "      <td>2</td>\n",
       "      <td>0.0</td>\n",
       "      <td>0.0</td>\n",
       "      <td>0.0</td>\n",
       "      <td>0.0</td>\n",
       "      <td>0.0</td>\n",
       "      <td>0.0</td>\n",
       "      <td>0.0</td>\n",
       "      <td>0.0</td>\n",
       "      <td>0.0</td>\n",
       "      <td>0.0</td>\n",
       "      <td>...</td>\n",
       "      <td>-0.041522</td>\n",
       "      <td>-0.031639</td>\n",
       "      <td>0.0</td>\n",
       "      <td>0.0</td>\n",
       "      <td>0.0</td>\n",
       "      <td>0.0</td>\n",
       "      <td>0.0</td>\n",
       "      <td>0.0</td>\n",
       "      <td>0.0</td>\n",
       "      <td>0.0</td>\n",
       "    </tr>\n",
       "    <tr>\n",
       "      <td>3</td>\n",
       "      <td>0.0</td>\n",
       "      <td>0.0</td>\n",
       "      <td>0.0</td>\n",
       "      <td>0.0</td>\n",
       "      <td>0.0</td>\n",
       "      <td>0.0</td>\n",
       "      <td>0.0</td>\n",
       "      <td>0.0</td>\n",
       "      <td>0.0</td>\n",
       "      <td>0.0</td>\n",
       "      <td>...</td>\n",
       "      <td>-0.041522</td>\n",
       "      <td>-0.031639</td>\n",
       "      <td>0.0</td>\n",
       "      <td>0.0</td>\n",
       "      <td>0.0</td>\n",
       "      <td>0.0</td>\n",
       "      <td>0.0</td>\n",
       "      <td>0.0</td>\n",
       "      <td>0.0</td>\n",
       "      <td>0.0</td>\n",
       "    </tr>\n",
       "    <tr>\n",
       "      <td>4</td>\n",
       "      <td>0.0</td>\n",
       "      <td>0.0</td>\n",
       "      <td>0.0</td>\n",
       "      <td>0.0</td>\n",
       "      <td>0.0</td>\n",
       "      <td>0.0</td>\n",
       "      <td>0.0</td>\n",
       "      <td>0.0</td>\n",
       "      <td>0.0</td>\n",
       "      <td>0.0</td>\n",
       "      <td>...</td>\n",
       "      <td>-0.041522</td>\n",
       "      <td>-0.031639</td>\n",
       "      <td>0.0</td>\n",
       "      <td>0.0</td>\n",
       "      <td>0.0</td>\n",
       "      <td>0.0</td>\n",
       "      <td>0.0</td>\n",
       "      <td>0.0</td>\n",
       "      <td>0.0</td>\n",
       "      <td>0.0</td>\n",
       "    </tr>\n",
       "  </tbody>\n",
       "</table>\n",
       "<p>5 rows × 784 columns</p>\n",
       "</div>"
      ],
      "text/plain": [
       "   0    1    2    3    4    5    6    7    8    9    ...       774       775  \\\n",
       "0  0.0  0.0  0.0  0.0  0.0  0.0  0.0  0.0  0.0  0.0  ... -0.041522 -0.031639   \n",
       "1  0.0  0.0  0.0  0.0  0.0  0.0  0.0  0.0  0.0  0.0  ... -0.041522 -0.031639   \n",
       "2  0.0  0.0  0.0  0.0  0.0  0.0  0.0  0.0  0.0  0.0  ... -0.041522 -0.031639   \n",
       "3  0.0  0.0  0.0  0.0  0.0  0.0  0.0  0.0  0.0  0.0  ... -0.041522 -0.031639   \n",
       "4  0.0  0.0  0.0  0.0  0.0  0.0  0.0  0.0  0.0  0.0  ... -0.041522 -0.031639   \n",
       "\n",
       "   776  777  778  779  780  781  782  783  \n",
       "0  0.0  0.0  0.0  0.0  0.0  0.0  0.0  0.0  \n",
       "1  0.0  0.0  0.0  0.0  0.0  0.0  0.0  0.0  \n",
       "2  0.0  0.0  0.0  0.0  0.0  0.0  0.0  0.0  \n",
       "3  0.0  0.0  0.0  0.0  0.0  0.0  0.0  0.0  \n",
       "4  0.0  0.0  0.0  0.0  0.0  0.0  0.0  0.0  \n",
       "\n",
       "[5 rows x 784 columns]"
      ]
     },
     "execution_count": 13,
     "metadata": {},
     "output_type": "execute_result"
    }
   ],
   "source": [
    "X_tr_st.head()"
   ]
  },
  {
   "cell_type": "markdown",
   "metadata": {},
   "source": [
    "## Stratified KFold Cross Validation"
   ]
  },
  {
   "cell_type": "code",
   "execution_count": 14,
   "metadata": {},
   "outputs": [
    {
     "name": "stdout",
     "output_type": "stream",
     "text": [
      "## 교차검증 : 0\n",
      "학습 레이블 데아터 분포 :\n",
      " 7    93\n",
      "1    92\n",
      "4    84\n",
      "9    80\n",
      "2    79\n",
      "0    77\n",
      "6    75\n",
      "3    74\n",
      "5    73\n",
      "8    69\n",
      "dtype: int64\n",
      "검증 레이블 데이터 분포 :\n",
      " 7    24\n",
      "1    24\n",
      "4    21\n",
      "9    20\n",
      "2    20\n",
      "0    20\n",
      "6    19\n",
      "5    19\n",
      "3    19\n",
      "8    18\n",
      "dtype: int64\n"
     ]
    },
    {
     "name": "stderr",
     "output_type": "stream",
     "text": [
      "C:\\Users\\Mecors\\Anaconda3\\envs\\TF\\lib\\site-packages\\sklearn\\linear_model\\logistic.py:432: FutureWarning: Default solver will be changed to 'lbfgs' in 0.22. Specify a solver to silence this warning.\n",
      "  FutureWarning)\n",
      "C:\\Users\\Mecors\\Anaconda3\\envs\\TF\\lib\\site-packages\\sklearn\\linear_model\\logistic.py:469: FutureWarning: Default multi_class will be changed to 'auto' in 0.22. Specify the multi_class option to silence this warning.\n",
      "  \"this warning.\", FutureWarning)\n"
     ]
    },
    {
     "name": "stdout",
     "output_type": "stream",
     "text": [
      "교차 검증 0 정확도 :0.7794\n",
      "\n",
      "\n",
      "## 교차검증 : 1\n",
      "학습 레이블 데아터 분포 :\n",
      " 7    93\n",
      "1    93\n",
      "4    84\n",
      "9    80\n",
      "2    79\n",
      "0    77\n",
      "6    75\n",
      "3    74\n",
      "5    73\n",
      "8    69\n",
      "dtype: int64\n",
      "검증 레이블 데이터 분포 :\n",
      " 7    24\n",
      "1    23\n",
      "4    21\n",
      "9    20\n",
      "2    20\n",
      "0    20\n",
      "6    19\n",
      "5    19\n",
      "3    19\n",
      "8    18\n",
      "dtype: int64\n"
     ]
    },
    {
     "name": "stderr",
     "output_type": "stream",
     "text": [
      "C:\\Users\\Mecors\\Anaconda3\\envs\\TF\\lib\\site-packages\\sklearn\\linear_model\\logistic.py:432: FutureWarning: Default solver will be changed to 'lbfgs' in 0.22. Specify a solver to silence this warning.\n",
      "  FutureWarning)\n",
      "C:\\Users\\Mecors\\Anaconda3\\envs\\TF\\lib\\site-packages\\sklearn\\linear_model\\logistic.py:469: FutureWarning: Default multi_class will be changed to 'auto' in 0.22. Specify the multi_class option to silence this warning.\n",
      "  \"this warning.\", FutureWarning)\n"
     ]
    },
    {
     "name": "stdout",
     "output_type": "stream",
     "text": [
      "교차 검증 1 정확도 :0.8522\n",
      "\n",
      "\n",
      "## 교차검증 : 2\n",
      "학습 레이블 데아터 분포 :\n",
      " 7    94\n",
      "1    93\n",
      "4    84\n",
      "9    80\n",
      "2    79\n",
      "0    78\n",
      "6    75\n",
      "5    74\n",
      "3    74\n",
      "8    70\n",
      "dtype: int64\n",
      "검증 레이블 데이터 분포 :\n",
      " 7    23\n",
      "1    23\n",
      "4    21\n",
      "9    20\n",
      "2    20\n",
      "6    19\n",
      "3    19\n",
      "0    19\n",
      "5    18\n",
      "8    17\n",
      "dtype: int64\n"
     ]
    },
    {
     "name": "stderr",
     "output_type": "stream",
     "text": [
      "C:\\Users\\Mecors\\Anaconda3\\envs\\TF\\lib\\site-packages\\sklearn\\linear_model\\logistic.py:432: FutureWarning: Default solver will be changed to 'lbfgs' in 0.22. Specify a solver to silence this warning.\n",
      "  FutureWarning)\n",
      "C:\\Users\\Mecors\\Anaconda3\\envs\\TF\\lib\\site-packages\\sklearn\\linear_model\\logistic.py:469: FutureWarning: Default multi_class will be changed to 'auto' in 0.22. Specify the multi_class option to silence this warning.\n",
      "  \"this warning.\", FutureWarning)\n"
     ]
    },
    {
     "name": "stdout",
     "output_type": "stream",
     "text": [
      "교차 검증 2 정확도 :0.8090\n",
      "\n",
      "\n",
      "## 교차검증 : 3\n",
      "학습 레이블 데아터 분포 :\n",
      " 7    94\n",
      "1    93\n",
      "4    84\n",
      "9    80\n",
      "2    79\n",
      "0    78\n",
      "6    75\n",
      "3    75\n",
      "5    74\n",
      "8    70\n",
      "dtype: int64\n",
      "검증 레이블 데이터 분포 :\n",
      " 7    23\n",
      "1    23\n",
      "4    21\n",
      "9    20\n",
      "2    20\n",
      "6    19\n",
      "0    19\n",
      "5    18\n",
      "3    18\n",
      "8    17\n",
      "dtype: int64\n"
     ]
    },
    {
     "name": "stderr",
     "output_type": "stream",
     "text": [
      "C:\\Users\\Mecors\\Anaconda3\\envs\\TF\\lib\\site-packages\\sklearn\\linear_model\\logistic.py:432: FutureWarning: Default solver will be changed to 'lbfgs' in 0.22. Specify a solver to silence this warning.\n",
      "  FutureWarning)\n",
      "C:\\Users\\Mecors\\Anaconda3\\envs\\TF\\lib\\site-packages\\sklearn\\linear_model\\logistic.py:469: FutureWarning: Default multi_class will be changed to 'auto' in 0.22. Specify the multi_class option to silence this warning.\n",
      "  \"this warning.\", FutureWarning)\n"
     ]
    },
    {
     "name": "stdout",
     "output_type": "stream",
     "text": [
      "교차 검증 3 정확도 :0.7778\n",
      "\n",
      "\n",
      "## 교차검증 : 4\n",
      "학습 레이블 데아터 분포 :\n",
      " 7    94\n",
      "1    93\n",
      "4    84\n",
      "9    80\n",
      "2    80\n",
      "0    78\n",
      "6    76\n",
      "3    75\n",
      "5    74\n",
      "8    70\n",
      "dtype: int64\n",
      "검증 레이블 데이터 분포 :\n",
      " 7    23\n",
      "1    23\n",
      "4    21\n",
      "9    20\n",
      "2    19\n",
      "0    19\n",
      "6    18\n",
      "5    18\n",
      "3    18\n",
      "8    17\n",
      "dtype: int64\n"
     ]
    },
    {
     "name": "stderr",
     "output_type": "stream",
     "text": [
      "C:\\Users\\Mecors\\Anaconda3\\envs\\TF\\lib\\site-packages\\sklearn\\linear_model\\logistic.py:432: FutureWarning: Default solver will be changed to 'lbfgs' in 0.22. Specify a solver to silence this warning.\n",
      "  FutureWarning)\n",
      "C:\\Users\\Mecors\\Anaconda3\\envs\\TF\\lib\\site-packages\\sklearn\\linear_model\\logistic.py:469: FutureWarning: Default multi_class will be changed to 'auto' in 0.22. Specify the multi_class option to silence this warning.\n",
      "  \"this warning.\", FutureWarning)\n"
     ]
    },
    {
     "name": "stdout",
     "output_type": "stream",
     "text": [
      "교차 검증 4 정확도 :0.7704\n",
      "\n",
      "\n",
      "평균 정확도 :0.7978\n",
      "\n",
      "\n",
      "## 교차검증 : 0\n",
      "학습 레이블 데아터 분포 :\n",
      " 7    93\n",
      "1    92\n",
      "4    84\n",
      "9    80\n",
      "2    79\n",
      "0    77\n",
      "6    75\n",
      "3    74\n",
      "5    73\n",
      "8    69\n",
      "dtype: int64\n",
      "검증 레이블 데이터 분포 :\n",
      " 7    24\n",
      "1    24\n",
      "4    21\n",
      "9    20\n",
      "2    20\n",
      "0    20\n",
      "6    19\n",
      "5    19\n",
      "3    19\n",
      "8    18\n",
      "dtype: int64\n"
     ]
    },
    {
     "name": "stderr",
     "output_type": "stream",
     "text": [
      "C:\\Users\\Mecors\\Anaconda3\\envs\\TF\\lib\\site-packages\\sklearn\\svm\\base.py:193: FutureWarning: The default value of gamma will change from 'auto' to 'scale' in version 0.22 to account better for unscaled features. Set gamma explicitly to 'auto' or 'scale' to avoid this warning.\n",
      "  \"avoid this warning.\", FutureWarning)\n"
     ]
    },
    {
     "name": "stdout",
     "output_type": "stream",
     "text": [
      "교차 검증 0 정확도 :0.8824\n",
      "\n",
      "\n",
      "## 교차검증 : 1\n",
      "학습 레이블 데아터 분포 :\n",
      " 7    93\n",
      "1    93\n",
      "4    84\n",
      "9    80\n",
      "2    79\n",
      "0    77\n",
      "6    75\n",
      "3    74\n",
      "5    73\n",
      "8    69\n",
      "dtype: int64\n",
      "검증 레이블 데이터 분포 :\n",
      " 7    24\n",
      "1    23\n",
      "4    21\n",
      "9    20\n",
      "2    20\n",
      "0    20\n",
      "6    19\n",
      "5    19\n",
      "3    19\n",
      "8    18\n",
      "dtype: int64\n"
     ]
    },
    {
     "name": "stderr",
     "output_type": "stream",
     "text": [
      "C:\\Users\\Mecors\\Anaconda3\\envs\\TF\\lib\\site-packages\\sklearn\\svm\\base.py:193: FutureWarning: The default value of gamma will change from 'auto' to 'scale' in version 0.22 to account better for unscaled features. Set gamma explicitly to 'auto' or 'scale' to avoid this warning.\n",
      "  \"avoid this warning.\", FutureWarning)\n"
     ]
    },
    {
     "name": "stdout",
     "output_type": "stream",
     "text": [
      "교차 검증 1 정확도 :0.8768\n",
      "\n",
      "\n",
      "## 교차검증 : 2\n",
      "학습 레이블 데아터 분포 :\n",
      " 7    94\n",
      "1    93\n",
      "4    84\n",
      "9    80\n",
      "2    79\n",
      "0    78\n",
      "6    75\n",
      "5    74\n",
      "3    74\n",
      "8    70\n",
      "dtype: int64\n",
      "검증 레이블 데이터 분포 :\n",
      " 7    23\n",
      "1    23\n",
      "4    21\n",
      "9    20\n",
      "2    20\n",
      "6    19\n",
      "3    19\n",
      "0    19\n",
      "5    18\n",
      "8    17\n",
      "dtype: int64\n"
     ]
    },
    {
     "name": "stderr",
     "output_type": "stream",
     "text": [
      "C:\\Users\\Mecors\\Anaconda3\\envs\\TF\\lib\\site-packages\\sklearn\\svm\\base.py:193: FutureWarning: The default value of gamma will change from 'auto' to 'scale' in version 0.22 to account better for unscaled features. Set gamma explicitly to 'auto' or 'scale' to avoid this warning.\n",
      "  \"avoid this warning.\", FutureWarning)\n"
     ]
    },
    {
     "name": "stdout",
     "output_type": "stream",
     "text": [
      "교차 검증 2 정확도 :0.8141\n",
      "\n",
      "\n",
      "## 교차검증 : 3\n",
      "학습 레이블 데아터 분포 :\n",
      " 7    94\n",
      "1    93\n",
      "4    84\n",
      "9    80\n",
      "2    79\n",
      "0    78\n",
      "6    75\n",
      "3    75\n",
      "5    74\n",
      "8    70\n",
      "dtype: int64\n",
      "검증 레이블 데이터 분포 :\n",
      " 7    23\n",
      "1    23\n",
      "4    21\n",
      "9    20\n",
      "2    20\n",
      "6    19\n",
      "0    19\n",
      "5    18\n",
      "3    18\n",
      "8    17\n",
      "dtype: int64\n"
     ]
    },
    {
     "name": "stderr",
     "output_type": "stream",
     "text": [
      "C:\\Users\\Mecors\\Anaconda3\\envs\\TF\\lib\\site-packages\\sklearn\\svm\\base.py:193: FutureWarning: The default value of gamma will change from 'auto' to 'scale' in version 0.22 to account better for unscaled features. Set gamma explicitly to 'auto' or 'scale' to avoid this warning.\n",
      "  \"avoid this warning.\", FutureWarning)\n"
     ]
    },
    {
     "name": "stdout",
     "output_type": "stream",
     "text": [
      "교차 검증 3 정확도 :0.8687\n",
      "\n",
      "\n",
      "## 교차검증 : 4\n",
      "학습 레이블 데아터 분포 :\n",
      " 7    94\n",
      "1    93\n",
      "4    84\n",
      "9    80\n",
      "2    80\n",
      "0    78\n",
      "6    76\n",
      "3    75\n",
      "5    74\n",
      "8    70\n",
      "dtype: int64\n",
      "검증 레이블 데이터 분포 :\n",
      " 7    23\n",
      "1    23\n",
      "4    21\n",
      "9    20\n",
      "2    19\n",
      "0    19\n",
      "6    18\n",
      "5    18\n",
      "3    18\n",
      "8    17\n",
      "dtype: int64\n"
     ]
    },
    {
     "name": "stderr",
     "output_type": "stream",
     "text": [
      "C:\\Users\\Mecors\\Anaconda3\\envs\\TF\\lib\\site-packages\\sklearn\\svm\\base.py:193: FutureWarning: The default value of gamma will change from 'auto' to 'scale' in version 0.22 to account better for unscaled features. Set gamma explicitly to 'auto' or 'scale' to avoid this warning.\n",
      "  \"avoid this warning.\", FutureWarning)\n"
     ]
    },
    {
     "name": "stdout",
     "output_type": "stream",
     "text": [
      "교차 검증 4 정확도 :0.8469\n",
      "\n",
      "\n",
      "평균 정확도 :0.8578\n",
      "\n",
      "\n"
     ]
    }
   ],
   "source": [
    "from sklearn.model_selection import StratifiedKFold\n",
    "from sklearn.linear_model import LogisticRegression\n",
    "from sklearn.svm import SVC\n",
    "from sklearn.metrics import accuracy_score\n",
    "\n",
    "lr_clf = LogisticRegression()\n",
    "svm = SVC()\n",
    "\n",
    "\n",
    "\n",
    "def exec_Skfold(clf, folds=5) :\n",
    "    Skfold=StratifiedKFold(n_splits=folds)\n",
    "    scores=[]\n",
    "    \n",
    "    for iter_counts, (train_index, test_index) in enumerate(Skfold.split(X_tr_st, y_tr_data)):\n",
    "        X_train, X_test = X_tr_st.values[train_index], X_tr_st.values[test_index]\n",
    "        y_train, y_test = y_tr_data.values[train_index], y_tr_data.values[test_index]\n",
    "        \n",
    "        print('## 교차검증 : {0}'.format(iter_counts))\n",
    "        print('학습 레이블 데이터 분포 :\\n', pd.Series(y_train).value_counts())\n",
    "        print('검증 레이블 데이터 분포 :\\n', pd.Series(y_test).value_counts())\n",
    "        \n",
    "        clf.fit(X_train, y_train)\n",
    "        predictions = clf.predict(X_test)\n",
    "        accuracy = accuracy_score(y_test, predictions)\n",
    "        scores.append(accuracy)\n",
    "        print(\"교차 검증 {0} 정확도 :{1:.4f}\".format(iter_counts, accuracy))\n",
    "        \n",
    "        print(\"\\n\")\n",
    "        \n",
    "    mean_score = np.mean(scores)\n",
    "    print(\"평균 정확도 :{0:.4f}\".format(mean_score))\n",
    "    print(\"\\n\")\n",
    "    \n",
    "exec_Skfold(lr_clf, folds=5)\n",
    "exec_Skfold(svm, folds=5)"
   ]
  },
  {
   "cell_type": "code",
   "execution_count": 15,
   "metadata": {},
   "outputs": [
    {
     "data": {
      "text/plain": [
       "'import matplotlib.pyplot as plt\\n\\n# Generate the class/group data\\nn_points = 100\\nX = np.random.randn(100, 10)\\n\\npercentiles_classes = [.1, .3, .6]\\ny = np.hstack([[ii] * int(100 * perc)\\n               for ii, perc in enumerate(percentiles_classes)])\\n\\n# Evenly spaced groups repeated once\\ngroups = np.hstack([[ii] * 10 for ii in range(10)])\\n\\n\\ndef visualize_groups(classes, groups, name):\\n    # Visualize dataset groups\\n    fig, ax = plt.subplots()\\n    ax.scatter(range(len(groups)),  [.5] * len(groups), c=groups, marker=\\'_\\',\\n               lw=50, cmap=cmap_data)\\n    ax.scatter(range(len(groups)),  [3.5] * len(groups), c=classes, marker=\\'_\\',\\n               lw=50, cmap=cmap_data)\\n    ax.set(ylim=[-1, 5], yticks=[.5, 3.5],\\n           yticklabels=[\\'Data\\ngroup\\', \\'Data\\nclass\\'], xlabel=\"Sample index\")\\n\\n\\nvisualize_groups(y, groups, \\'no groups\\')\\n\\n\\ndef plot_cv_indices(cv, X, y, group, ax, n_splits, lw=10):\\n\\n    # Generate the training/testing visualizations for each CV split\\n    for ii, (tr, tt) in enumerate(cv.split(X=X, y=y, groups=group)):\\n        # Fill in indices with the training/test groups\\n        indices = np.array([np.nan] * len(X))\\n        indices[tt] = 1\\n        indices[tr] = 0\\n\\n        # Visualize the results\\n        ax.scatter(range(len(indices)), [ii + .5] * len(indices),\\n                   c=indices, marker=\\'_\\', lw=lw, cmap=cmap_cv,\\n                   vmin=-.2, vmax=1.2)\\n\\n    # Plot the data classes and groups at the end\\n    ax.scatter(range(len(X)), [ii + 1.5] * len(X),\\n               c=y, marker=\\'_\\', lw=lw, cmap=cmap_data)\\n\\n    ax.scatter(range(len(X)), [ii + 2.5] * len(X),\\n               c=group, marker=\\'_\\', lw=lw, cmap=cmap_data)\\n\\n    # Formatting\\n    yticklabels = list(range(n_splits)) + [\\'class\\', \\'group\\']\\n    ax.set(yticks=np.arange(n_splits+2) + .5, yticklabels=yticklabels,\\n           xlabel=\\'Sample index\\', ylabel=\"CV iteration\",\\n           ylim=[n_splits+2.2, -.2], xlim=[0, 100])\\n    ax.set_title(\\'{}\\'.format(type(cv).__name__), fontsize=15)\\n    return ax\\n\\n\\nfig, ax = plt.subplots()\\ncv = StratifiedKFold(5)\\nplot_cv_indices(cv, X_tr_st, y_tr_data, groups, ax, n_splits)'"
      ]
     },
     "execution_count": 15,
     "metadata": {},
     "output_type": "execute_result"
    }
   ],
   "source": [
    "# StratifiedKfold 시각화\n",
    "#https://scikit-learn.org/stable/auto_examples/model_selection/plot_cv_indices.html#sphx-glr-auto-examples-model-selection-plot-cv-indices-py\n",
    "\n",
    "\"\"\"import matplotlib.pyplot as plt\n",
    "\n",
    "# Generate the class/group data\n",
    "n_points = 100\n",
    "X = np.random.randn(100, 10)\n",
    "\n",
    "percentiles_classes = [.1, .3, .6]\n",
    "y = np.hstack([[ii] * int(100 * perc)\n",
    "               for ii, perc in enumerate(percentiles_classes)])\n",
    "\n",
    "# Evenly spaced groups repeated once\n",
    "groups = np.hstack([[ii] * 10 for ii in range(10)])\n",
    "\n",
    "\n",
    "def visualize_groups(classes, groups, name):\n",
    "    # Visualize dataset groups\n",
    "    fig, ax = plt.subplots()\n",
    "    ax.scatter(range(len(groups)),  [.5] * len(groups), c=groups, marker='_',\n",
    "               lw=50, cmap=cmap_data)\n",
    "    ax.scatter(range(len(groups)),  [3.5] * len(groups), c=classes, marker='_',\n",
    "               lw=50, cmap=cmap_data)\n",
    "    ax.set(ylim=[-1, 5], yticks=[.5, 3.5],\n",
    "           yticklabels=['Data\\ngroup', 'Data\\nclass'], xlabel=\"Sample index\")\n",
    "\n",
    "\n",
    "visualize_groups(y, groups, 'no groups')\n",
    "\n",
    "\n",
    "def plot_cv_indices(cv, X, y, group, ax, n_splits, lw=10):\n",
    "\n",
    "    # Generate the training/testing visualizations for each CV split\n",
    "    for ii, (tr, tt) in enumerate(cv.split(X=X, y=y, groups=group)):\n",
    "        # Fill in indices with the training/test groups\n",
    "        indices = np.array([np.nan] * len(X))\n",
    "        indices[tt] = 1\n",
    "        indices[tr] = 0\n",
    "\n",
    "        # Visualize the results\n",
    "        ax.scatter(range(len(indices)), [ii + .5] * len(indices),\n",
    "                   c=indices, marker='_', lw=lw, cmap=cmap_cv,\n",
    "                   vmin=-.2, vmax=1.2)\n",
    "\n",
    "    # Plot the data classes and groups at the end\n",
    "    ax.scatter(range(len(X)), [ii + 1.5] * len(X),\n",
    "               c=y, marker='_', lw=lw, cmap=cmap_data)\n",
    "\n",
    "    ax.scatter(range(len(X)), [ii + 2.5] * len(X),\n",
    "               c=group, marker='_', lw=lw, cmap=cmap_data)\n",
    "\n",
    "    # Formatting\n",
    "    yticklabels = list(range(n_splits)) + ['class', 'group']\n",
    "    ax.set(yticks=np.arange(n_splits+2) + .5, yticklabels=yticklabels,\n",
    "           xlabel='Sample index', ylabel=\"CV iteration\",\n",
    "           ylim=[n_splits+2.2, -.2], xlim=[0, 100])\n",
    "    ax.set_title('{}'.format(type(cv).__name__), fontsize=15)\n",
    "    return ax\n",
    "\n",
    "\n",
    "fig, ax = plt.subplots()\n",
    "cv = StratifiedKFold(5)\n",
    "plot_cv_indices(cv, X_tr_st, y_tr_data, groups, ax, n_splits)\"\"\""
   ]
  },
  {
   "cell_type": "code",
   "execution_count": 16,
   "metadata": {},
   "outputs": [
    {
     "data": {
      "text/plain": [
       "\"\\nfrom sklearn.model_selection import cross_val_score, cross_validate\\nfrom sklearn.model_selection import StratifiedKFold\\nfrom sklearn.linear_model import LogisticRegression\\nfrom sklearn.svm import SVC\\n\\nskf = StratifiedKFold(5)\\nlr_clf = LogisticRegression()\\nsvm = SVC()\\n\\nscores = cross_val_score(lr_clf, tr_image, tr_label, scoring='accuracy', cv=skf)\\nprint('Logistic Regression 교차 검증별 정확도 :', np.round(scores, 4))\\nprint('Logistic Regression 평균 검증 정확도 :', np.round(np.mean(scores), 4))\\nscores = cross_val_score(svm, tr_image, tr_label, scoring='accuracy', cv=skf)\\nprint('SVM 교차 검증별 정확도 :', np.round(scores, 4))\\nprint('SVM 평균 검증 정확도 :', np.round(np.mean(scores), 4))\\n\""
      ]
     },
     "execution_count": 16,
     "metadata": {},
     "output_type": "execute_result"
    }
   ],
   "source": [
    "#cross_val_score 또 하나의 방법, 둘중 시각화 좀 더 쉬운거로 선택하는 것이...?\n",
    "\n",
    "'''\n",
    "from sklearn.model_selection import cross_val_score, cross_validate\n",
    "from sklearn.model_selection import StratifiedKFold\n",
    "from sklearn.linear_model import LogisticRegression\n",
    "from sklearn.svm import SVC\n",
    "\n",
    "skf = StratifiedKFold(5)\n",
    "lr_clf = LogisticRegression()\n",
    "svm = SVC()\n",
    "\n",
    "scores = cross_val_score(lr_clf, tr_image, tr_label, scoring='accuracy', cv=skf)\n",
    "print('Logistic Regression 교차 검증별 정확도 :', np.round(scores, 4))\n",
    "print('Logistic Regression 평균 검증 정확도 :', np.round(np.mean(scores), 4))\n",
    "scores = cross_val_score(svm, tr_image, tr_label, scoring='accuracy', cv=skf)\n",
    "print('SVM 교차 검증별 정확도 :', np.round(scores, 4))\n",
    "print('SVM 평균 검증 정확도 :', np.round(np.mean(scores), 4))\n",
    "'''"
   ]
  },
  {
   "cell_type": "markdown",
   "metadata": {},
   "source": [
    "## Model Choice"
   ]
  },
  {
   "cell_type": "code",
   "execution_count": 17,
   "metadata": {},
   "outputs": [],
   "source": [
    "from sklearn.model_selection import train_test_split\n",
    "\n",
    "X_train, X_test, y_train, y_test = train_test_split(X_tr_st, y_tr_data, test_size=0.3)"
   ]
  },
  {
   "cell_type": "code",
   "execution_count": 18,
   "metadata": {},
   "outputs": [
    {
     "name": "stderr",
     "output_type": "stream",
     "text": [
      "C:\\Users\\Mecors\\Anaconda3\\envs\\TF\\lib\\site-packages\\sklearn\\linear_model\\logistic.py:432: FutureWarning: Default solver will be changed to 'lbfgs' in 0.22. Specify a solver to silence this warning.\n",
      "  FutureWarning)\n",
      "C:\\Users\\Mecors\\Anaconda3\\envs\\TF\\lib\\site-packages\\sklearn\\linear_model\\logistic.py:469: FutureWarning: Default multi_class will be changed to 'auto' in 0.22. Specify the multi_class option to silence this warning.\n",
      "  \"this warning.\", FutureWarning)\n"
     ]
    }
   ],
   "source": [
    "from sklearn.linear_model import LogisticRegression\n",
    "\n",
    "lr_clf = LogisticRegression()\n",
    "\n",
    "lr_clf.fit(X_train, y_train)\n",
    "pred = lr_clf.predict(X_test)"
   ]
  },
  {
   "cell_type": "markdown",
   "metadata": {},
   "source": [
    "## HyperParameter"
   ]
  },
  {
   "cell_type": "code",
   "execution_count": 19,
   "metadata": {},
   "outputs": [
    {
     "data": {
      "text/plain": [
       "\"\\nfrom sklearn.model_selection import GridSearchCV\\n\\ngrid_parameters = {'max_depth' : [1, 2, 3],\\n                  'min_samples_split' : [2, 3]\\n                   \\n                  } #모델 선택 후 조정\\n                  \\n\""
      ]
     },
     "execution_count": 19,
     "metadata": {},
     "output_type": "execute_result"
    }
   ],
   "source": [
    "'''\n",
    "from sklearn.model_selection import GridSearchCV\n",
    "\n",
    "grid_parameters = {'max_depth' : [1, 2, 3],\n",
    "                  'min_samples_split' : [2, 3]\n",
    "                   \n",
    "                  } #모델 선택 후 조정\n",
    "                  \n",
    "'''"
   ]
  },
  {
   "cell_type": "markdown",
   "metadata": {},
   "source": [
    "## Evaluation"
   ]
  },
  {
   "cell_type": "code",
   "execution_count": 20,
   "metadata": {},
   "outputs": [
    {
     "name": "stdout",
     "output_type": "stream",
     "text": [
      "[[29  0  0  0  0  0  1  0  0  0]\n",
      " [ 0 26  0  0  0  0  0  0  0  0]\n",
      " [ 0  3 20  2  0  0  0  0  3  0]\n",
      " [ 3  1  1 21  0  1  0  1  0  5]\n",
      " [ 0  0  1  0 30  1  0  1  0  2]\n",
      " [ 1  0  1  4  2 23  1  0  1  0]\n",
      " [ 1  3  0  0  0  0 24  0  0  0]\n",
      " [ 0  2  1  0  1  0  0 23  0  3]\n",
      " [ 0  3  1  0  1  4  1  1 19  1]\n",
      " [ 0  0  0  0  3  0  1  3  0 19]]\n",
      "True\n",
      "True\n",
      "True\n",
      "True\n",
      "True\n",
      "True\n",
      "True\n",
      "True\n",
      "True\n",
      "True\n",
      "Precision Score : \n",
      " [0.8529 0.6842 0.8    0.7778 0.8108 0.7931 0.8571 0.7931 0.8261 0.6333]\n",
      "Recall Score : \n",
      " [0.9667 1.     0.7143 0.6364 0.8571 0.697  0.8571 0.7667 0.6129 0.7308]\n"
     ]
    },
    {
     "data": {
      "text/plain": [
       "<matplotlib.axes._subplots.AxesSubplot at 0x20913bbcbc8>"
      ]
     },
     "execution_count": 20,
     "metadata": {},
     "output_type": "execute_result"
    },
    {
     "data": {
      "image/png": "[encoded data removed]",
      "text/plain": [
       "<Figure size 432x288 with 2 Axes>"
      ]
     },
     "metadata": {
      "needs_background": "light"
     },
     "output_type": "display_data"
    }
   ],
   "source": [
    "from sklearn.metrics import confusion_matrix\n",
    "import seaborn as sns\n",
    "\n",
    "cm = confusion_matrix(y_test, pred)\n",
    "print(cm)\n",
    "TP = np.diag(cm)\n",
    "FP = np.sum(cm, axis=0) - TP\n",
    "FN = np.sum(cm, axis=1) - TP\n",
    "num_classes = 10\n",
    "TN = []\n",
    "for i in range(num_classes):\n",
    "    temp = np.delete(cm, i, 0)    # delete ith row\n",
    "    temp = np.delete(temp, i, 1)  # delete ith column\n",
    "    TN.append(sum(sum(temp)))\n",
    "\n",
    "l = 300 #숫자 수정 필요!\n",
    "for i in range(num_classes):\n",
    "    print(TP[i] + FP[i] + FN[i] + TN[i] == l)\n",
    "\n",
    "precision = TP/(TP+FP)\n",
    "recall = TP/(TP+FN)\n",
    "print(\"Precision Score : \\n\", np.round(precision, 4))\n",
    "print(\"Recall Score : \\n\", np.round(recall, 4))\n",
    "\n",
    "sns.heatmap(cm)\n",
    "#파라미터 조정"
   ]
  },
  {
   "cell_type": "code",
   "execution_count": 21,
   "metadata": {},
   "outputs": [
    {
     "name": "stdout",
     "output_type": "stream",
     "text": [
      "micro precision :0.78000\n",
      "macro precision :0.78285\n",
      "weighted precision :0.78621\n"
     ]
    }
   ],
   "source": [
    "#https://ieeexplore.ieee.org/document/6471714\n",
    "\n",
    "from sklearn.metrics import precision_score\n",
    "\n",
    "micro = precision_score(y_test, pred, average='micro')\n",
    "macro = precision_score(y_test, pred, average='macro')\n",
    "weighted = precision_score(y_test, pred, average='weighted')\n",
    "'''\n",
    "<micro precision>\n",
    "Calculate metrics globally by counting the total true positives, \n",
    "false negatives and false positives.\n",
    "'''\n",
    "print(\"micro precision :{0:.5f}\".format(micro))\n",
    "'''\n",
    "<macro precision>\n",
    "Calculate metrics for each label, and find their unweighted mean. \n",
    "This does not take label imbalance into account.\n",
    "'''\n",
    "print(\"macro precision :{0:.5f}\".format(macro))\n",
    "\n",
    "'''\n",
    "<weighted precision>\n",
    "Calculate metrics for each label, \n",
    "and find their average weighted by support \n",
    "(the number of true instances for each label). \n",
    "This alters ‘macro’ to account for label imbalance; \n",
    "it can result in an F-score that is not between precision and recall.\n",
    "'''\n",
    "print(\"weighted precision :{0:.5f}\".format(weighted))"
   ]
  },
  {
   "cell_type": "code",
   "execution_count": 22,
   "metadata": {},
   "outputs": [
    {
     "name": "stdout",
     "output_type": "stream",
     "text": [
      "micro recall :0.78000\n",
      "macro recall :0.78389\n",
      "weighted recall :0.78000\n"
     ]
    }
   ],
   "source": [
    "from sklearn.metrics import recall_score\n",
    "\n",
    "micro = recall_score(y_test, pred, average='micro')\n",
    "macro = recall_score(y_test, pred, average='macro')\n",
    "weighted = recall_score(y_test, pred, average='weighted')\n",
    "'''\n",
    "<micro precision>\n",
    "Calculate metrics globally by counting the total true positives, \n",
    "false negatives and false positives.\n",
    "\n",
    "'''\n",
    "print(\"micro recall :{0:.5f}\".format(micro))\n",
    "'''\n",
    "<macro precision>\n",
    "Calculate metrics for each label, and find their unweighted mean. \n",
    "This does not take label imbalance into account\n",
    "'''\n",
    "print(\"macro recall :{0:.5f}\".format(macro))\n",
    "\n",
    "'''\n",
    "<weighted precision>\n",
    "Calculate metrics for each label, \n",
    "and find their average weighted by support \n",
    "(the number of true instances for each label). \n",
    "This alters ‘macro’ to account for label imbalance; \n",
    "it can result in an F-score that is not between precision and recall.\n",
    "\n",
    "'''\n",
    "print(\"weighted recall :{0:.5f}\".format(weighted))"
   ]
  },
  {
   "cell_type": "code",
   "execution_count": 23,
   "metadata": {},
   "outputs": [],
   "source": [
    "# 무엇을 선택하느냐에 따라 F1 Score도 변경될듯"
   ]
  },
  {
   "cell_type": "markdown",
   "metadata": {},
   "source": [
    "# ROC Curve"
   ]
  },
  {
   "cell_type": "code",
   "execution_count": 24,
   "metadata": {},
   "outputs": [
    {
     "data": {
      "text/plain": [
       "'\\nfrom sklearn.metrics import roc_curve, auc\\n\\n# Compute macro-average ROC curve and ROC area\\n\\n# First aggregate all false positive rates\\nn_classes = 10\\nall_fpr = np.unique(np.concatenate([FP[i] for i in range(n_classes)]))\\n\\n# Then interpolate all ROC curves at this points\\nmean_tpr = np.zeros_like(all_fpr)\\nfor i in range(n_classes):\\n    mean_tpr += interp(all_fpr, FP[i], TP[i])\\n\\n# Finally average it and compute AUC\\nmean_tpr /= n_classes\\n\\nfpr[\"macro\"] = all_fpr\\ntpr[\"macro\"] = mean_tpr\\nroc_auc[\"macro\"] = auc(fpr[\"macro\"], tpr[\"macro\"])\\n\\n\\n# Plot all ROC curves\\nplt.figure()\\nplt.plot(fpr[\"micro\"], tpr[\"micro\"],\\n         label=\\'micro-average ROC curve (area = {0:0.2f})\\'\\n               \\'\\'.format(roc_auc[\"micro\"]),\\n         color=\\'deeppink\\', linestyle=\\':\\', linewidth=4)\\n\\nplt.plot(fpr[\"macro\"], tpr[\"macro\"],\\n         label=\\'macro-average ROC curve (area = {0:0.2f})\\'\\n               \\'\\'.format(roc_auc[\"macro\"]),\\n         color=\\'navy\\', linestyle=\\':\\', linewidth=4)\\n\\ncolors = cycle([\\'aqua\\', \\'darkorange\\', \\'cornflowerblue\\'])\\nfor i, color in zip(range(n_classes), colors):\\n    plt.plot(fpr[i], tpr[i], color=color, lw=lw,\\n             label=\\'ROC curve of class {0} (area = {1:0.2f})\\'\\n             \\'\\'.format(i, roc_auc[i]))\\n\\nplt.plot([0, 1], [0, 1], \\'k--\\', lw=lw)\\nplt.xlim([0.0, 1.0])\\nplt.ylim([0.0, 1.05])\\nplt.xlabel(\\'False Positive Rate\\')\\nplt.ylabel(\\'True Positive Rate\\')\\nplt.title(\\'Some extension of Receiver operating characteristic to multi-class\\')\\nplt.legend(loc=\"lower right\")\\nplt.show()\\n'"
      ]
     },
     "execution_count": 24,
     "metadata": {},
     "output_type": "execute_result"
    }
   ],
   "source": [
    "'''\n",
    "from sklearn.metrics import roc_curve, auc\n",
    "\n",
    "# Compute macro-average ROC curve and ROC area\n",
    "\n",
    "# First aggregate all false positive rates\n",
    "n_classes = 10\n",
    "all_fpr = np.unique(np.concatenate([FP[i] for i in range(n_classes)]))\n",
    "\n",
    "# Then interpolate all ROC curves at this points\n",
    "mean_tpr = np.zeros_like(all_fpr)\n",
    "for i in range(n_classes):\n",
    "    mean_tpr += interp(all_fpr, FP[i], TP[i])\n",
    "\n",
    "# Finally average it and compute AUC\n",
    "mean_tpr /= n_classes\n",
    "\n",
    "fpr[\"macro\"] = all_fpr\n",
    "tpr[\"macro\"] = mean_tpr\n",
    "roc_auc[\"macro\"] = auc(fpr[\"macro\"], tpr[\"macro\"])\n",
    "\n",
    "\n",
    "# Plot all ROC curves\n",
    "plt.figure()\n",
    "plt.plot(fpr[\"micro\"], tpr[\"micro\"],\n",
    "         label='micro-average ROC curve (area = {0:0.2f})'\n",
    "               ''.format(roc_auc[\"micro\"]),\n",
    "         color='deeppink', linestyle=':', linewidth=4)\n",
    "\n",
    "plt.plot(fpr[\"macro\"], tpr[\"macro\"],\n",
    "         label='macro-average ROC curve (area = {0:0.2f})'\n",
    "               ''.format(roc_auc[\"macro\"]),\n",
    "         color='navy', linestyle=':', linewidth=4)\n",
    "\n",
    "colors = cycle(['aqua', 'darkorange', 'cornflowerblue'])\n",
    "for i, color in zip(range(n_classes), colors):\n",
    "    plt.plot(fpr[i], tpr[i], color=color, lw=lw,\n",
    "             label='ROC curve of class {0} (area = {1:0.2f})'\n",
    "             ''.format(i, roc_auc[i]))\n",
    "\n",
    "plt.plot([0, 1], [0, 1], 'k--', lw=lw)\n",
    "plt.xlim([0.0, 1.0])\n",
    "plt.ylim([0.0, 1.05])\n",
    "plt.xlabel('False Positive Rate')\n",
    "plt.ylabel('True Positive Rate')\n",
    "plt.title('Some extension of Receiver operating characteristic to multi-class')\n",
    "plt.legend(loc=\"lower right\")\n",
    "plt.show()\n",
    "'''"
   ]
  }
 ],
 "metadata": {
  "kernelspec": {
   "display_name": "Python 3",
   "language": "python",
   "name": "python3"
  },
  "language_info": {
   "codemirror_mode": {
    "name": "ipython",
    "version": 3
   },
   "file_extension": ".py",
   "mimetype": "text/x-python",
   "name": "python",
   "nbconvert_exporter": "python",
   "pygments_lexer": "ipython3",
   "version": "3.7.4"
  }
 },
 "nbformat": 4,
 "nbformat_minor": 2
}
