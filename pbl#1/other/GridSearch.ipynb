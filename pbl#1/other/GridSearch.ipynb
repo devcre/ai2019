{
 "cells": [
  {
   "cell_type": "markdown",
   "metadata": {},
   "source": [
    "# running"
   ]
  },
  {
   "cell_type": "code",
   "execution_count": 1,
   "metadata": {},
   "outputs": [
    {
     "ename": "NameError",
     "evalue": "name 'lr_clf' is not defined",
     "output_type": "error",
     "traceback": [
      "\u001b[1;31m---------------------------------------------------------------------------\u001b[0m",
      "\u001b[1;31mNameError\u001b[0m                                 Traceback (most recent call last)",
      "\u001b[1;32m<ipython-input-1-53065b93c27e>\u001b[0m in \u001b[0;36m<module>\u001b[1;34m\u001b[0m\n\u001b[0;32m      5\u001b[0m \u001b[1;33m\u001b[0m\u001b[0m\n\u001b[0;32m      6\u001b[0m \u001b[0mgrid_param\u001b[0m\u001b[1;33m=\u001b[0m\u001b[1;33m{\u001b[0m\u001b[1;34m\"C\"\u001b[0m\u001b[1;33m:\u001b[0m\u001b[1;33m[\u001b[0m\u001b[1;36m0.001\u001b[0m\u001b[1;33m,\u001b[0m \u001b[1;36m0.01\u001b[0m\u001b[1;33m,\u001b[0m \u001b[1;36m0.1\u001b[0m\u001b[1;33m,\u001b[0m \u001b[1;36m1\u001b[0m\u001b[1;33m,\u001b[0m \u001b[1;36m10\u001b[0m\u001b[1;33m,\u001b[0m \u001b[1;36m100\u001b[0m\u001b[1;33m]\u001b[0m\u001b[1;33m,\u001b[0m \u001b[1;34m\"penalty\"\u001b[0m\u001b[1;33m:\u001b[0m\u001b[1;33m[\u001b[0m\u001b[1;34m\"l1\"\u001b[0m\u001b[1;33m,\u001b[0m\u001b[1;34m\"l2\"\u001b[0m\u001b[1;33m]\u001b[0m\u001b[1;33m}\u001b[0m\u001b[1;31m#addition more parameters\u001b[0m\u001b[1;33m\u001b[0m\u001b[1;33m\u001b[0m\u001b[0m\n\u001b[1;32m----> 7\u001b[1;33m \u001b[0mgrid_search\u001b[0m\u001b[1;33m=\u001b[0m\u001b[0mGridSearchCV\u001b[0m\u001b[1;33m(\u001b[0m\u001b[0mlr_clf\u001b[0m\u001b[1;33m,\u001b[0m \u001b[0mgrid_param\u001b[0m\u001b[1;33m,\u001b[0m \u001b[0mcv\u001b[0m\u001b[1;33m=\u001b[0m\u001b[1;36m10\u001b[0m\u001b[1;33m)\u001b[0m\u001b[1;33m\u001b[0m\u001b[1;33m\u001b[0m\u001b[0m\n\u001b[0m\u001b[0;32m      8\u001b[0m \u001b[1;33m\u001b[0m\u001b[0m\n\u001b[0;32m      9\u001b[0m \u001b[0mX_train\u001b[0m\u001b[1;33m,\u001b[0m \u001b[0mX_test\u001b[0m\u001b[1;33m,\u001b[0m \u001b[0my_train\u001b[0m\u001b[1;33m,\u001b[0m \u001b[0my_test\u001b[0m \u001b[1;33m=\u001b[0m \u001b[0mtrain_test_split\u001b[0m\u001b[1;33m(\u001b[0m\u001b[0mX\u001b[0m\u001b[1;33m,\u001b[0m \u001b[0my\u001b[0m\u001b[1;33m,\u001b[0m \u001b[0mrandom_state\u001b[0m\u001b[1;33m=\u001b[0m\u001b[1;36m23\u001b[0m\u001b[1;33m)\u001b[0m\u001b[1;33m\u001b[0m\u001b[1;33m\u001b[0m\u001b[0m\n",
      "\u001b[1;31mNameError\u001b[0m: name 'lr_clf' is not defined"
     ]
    }
   ],
   "source": [
    "from sklearn.model_selection import StratifiedKFold\n",
    "from sklearn.linear_model import LogisticRegression\n",
    "from sklearn.metrics import accuracy_score, f1_score\n",
    "from sklearn.model_selection import GridSearchCV\n",
    "\n",
    "grid_param={\"C\":[0.001, 0.01, 0.1, 1, 10, 100], \"penalty\":[\"l1\",\"l2\"]}#addition more parameters\n",
    "grid_search=GridSearchCV(lr_clf, grid_param, cv=10)\n",
    "\n",
    "X_train, X_test, y_train, y_test = train_test_split(X, y, random_state=23)\n",
    "\n",
    "grid_search.fit(X_train, y_train)\n",
    "grid_search.score(X_test, y_test)"
   ]
  },
  {
   "cell_type": "markdown",
   "metadata": {},
   "source": [
    "https://wikidocs.net/16594"
   ]
  },
  {
   "cell_type": "markdown",
   "metadata": {},
   "source": [
    "# skfold function"
   ]
  },
  {
   "cell_type": "code",
   "execution_count": null,
   "metadata": {},
   "outputs": [],
   "source": [
    "def exec_Skfold(clf, folds) :\n",
    "    Skfold=StratifiedKFold(n_splits=folds)\n",
    "    ac_scores=[]\n",
    "    f1_mi_scores=[]\n",
    "    f1_ma_scores=[]\n",
    "    \n",
    "    for iter_counts, (train_index, test_index) in enumerate(Skfold.split(X_tr_st, y_tr_data)):\n",
    "        X_train, X_test = X_tr_st.values[train_index], X_tr_st.values[test_index]\n",
    "        y_train, y_test = y_tr_data.values[train_index], y_tr_data.values[test_index]\n",
    "        \n",
    "        print('## 교차검증 : {0}'.format(iter_counts))\n",
    "        print('학습 레이블 데아터 분포 :\\n', pd.Series(y_train).value_counts())\n",
    "        print('검증 레이블 데이터 분포 :\\n', pd.Series(y_test).value_counts())\n",
    "        \n",
    "        clf.fit(X_train, y_train)\n",
    "        predictions = clf.predict(X_test)\n",
    "        accuracy = accuracy_score(y_test, predictions)\n",
    "        f1_micro = f1_score(y_test, predictions, average='micro')\n",
    "        f1_macro = f1_score(y_test, predictions, average='macro')\n",
    "        \n",
    "        ac_scores.append(accuracy)\n",
    "        print(\"교차 검증 {0} 정확도 :{1:.4f}\".format(iter_counts, accuracy))\n",
    "        f1_mi_scores.append(f1_micro)\n",
    "        print(\"교차 검증 {0} Micro f1-Score :{1:.4f}\".format(iter_counts, f1_micro))\n",
    "        f1_ma_scores.append(f1_macro)\n",
    "        print(\"교차 검증 {0} Macro f1-Score :{1:.4f}\".format(iter_counts, f1_macro))\n",
    "        print(\"\\n\")\n",
    "        \n",
    "    ac_mean = np.mean(ac_scores)\n",
    "    print(\"평균 정확도 :{0:.4f}\".format(ac_mean))\n",
    "    f1_micro_mean = np.mean(f1_mi_scores)\n",
    "    print(\"평균 Micro F1 :{0:.4f}\".format(f1_micro_mean))\n",
    "    f1_macro_mean = np.mean(f1_ma_scores)\n",
    "    print(\"평균 Macro F1 :{0:.4f}\".format(f1_macro_mean))\n",
    "    print(\"\\n\")\n",
    "   "
   ]
  }
 ],
 "metadata": {
  "kernelspec": {
   "display_name": "Python 3",
   "language": "python",
   "name": "python3"
  },
  "language_info": {
   "codemirror_mode": {
    "name": "ipython",
    "version": 3
   },
   "file_extension": ".py",
   "mimetype": "text/x-python",
   "name": "python",
   "nbconvert_exporter": "python",
   "pygments_lexer": "ipython3",
   "version": "3.7.4"
  }
 },
 "nbformat": 4,
 "nbformat_minor": 2
}
