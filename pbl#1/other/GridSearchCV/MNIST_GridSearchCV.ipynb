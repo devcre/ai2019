{
 "cells": [
  {
   "cell_type": "code",
   "execution_count": 1,
   "metadata": {},
   "outputs": [],
   "source": [
    "import struct\n",
    "import numpy as np\n",
    "import pandas as pd\n",
    "import matplotlib.pyplot as plt\n",
    "\n",
    "%matplotlib inline"
   ]
  },
  {
   "cell_type": "code",
   "execution_count": 2,
   "metadata": {},
   "outputs": [],
   "source": [
    "def read_idx(filename):\n",
    "    with open(filename, 'rb') as f:\n",
    "        zero, data_type, dims = struct.unpack('>HBB', f.read(4))\n",
    "        shape = tuple(struct.unpack('>I', f.read(4))[0] for d in range(dims))\n",
    "        return np.fromstring(f.read(), dtype=np.uint8).reshape(shape)"
   ]
  },
  {
   "cell_type": "code",
   "execution_count": 3,
   "metadata": {},
   "outputs": [
    {
     "name": "stderr",
     "output_type": "stream",
     "text": [
      "c:\\anaconda3\\envs\\dm2019\\lib\\site-packages\\ipykernel_launcher.py:5: DeprecationWarning: The binary mode of fromstring is deprecated, as it behaves surprisingly on unicode inputs. Use frombuffer instead\n",
      "  \"\"\"\n"
     ]
    }
   ],
   "source": [
    "raw_train = read_idx(\"./data/train-images.idx3-ubyte\")\n",
    "train_data = np.reshape(raw_train, (60000, 28*28))\n",
    "train_label = read_idx(\"./data/train-labels.idx1-ubyte\")\n",
    "\n",
    "raw_test = read_idx(\"./data/t10k-images.idx3-ubyte\")\n",
    "test_data = np.reshape(raw_test, (10000, 28*28))\n",
    "test_label = read_idx(\"./data/t10k-labels.idx1-ubyte\")"
   ]
  },
  {
   "cell_type": "code",
   "execution_count": 4,
   "metadata": {},
   "outputs": [],
   "source": [
    "from sklearn.preprocessing import MinMaxScaler\n",
    "\n",
    "mm = MinMaxScaler()\n",
    "\n",
    "train_mm = mm.fit_transform(train_data)"
   ]
  },
  {
   "cell_type": "code",
   "execution_count": 5,
   "metadata": {},
   "outputs": [
    {
     "name": "stdout",
     "output_type": "stream",
     "text": [
      "(60000, 784)\n",
      "(60000,)\n"
     ]
    }
   ],
   "source": [
    "print(train_mm.shape)\n",
    "print(train_label.shape)"
   ]
  },
  {
   "cell_type": "markdown",
   "metadata": {},
   "source": [
    "# IRIS Sample"
   ]
  },
  {
   "cell_type": "code",
   "execution_count": 6,
   "metadata": {},
   "outputs": [
    {
     "name": "stdout",
     "output_type": "stream",
     "text": [
      "(150, 4)\n",
      "(150,)\n"
     ]
    }
   ],
   "source": [
    "from sklearn.datasets import load_iris\n",
    "\n",
    "iris = load_iris()\n",
    "\n",
    "print(iris.data.shape)\n",
    "print(iris.target.shape)"
   ]
  },
  {
   "cell_type": "markdown",
   "metadata": {},
   "source": [
    "# GridSearchCV"
   ]
  },
  {
   "cell_type": "code",
   "execution_count": 7,
   "metadata": {},
   "outputs": [],
   "source": [
    "from sklearn.model_selection import GridSearchCV\n",
    "from sklearn.svm import SVC\n",
    "from sklearn.linear_model import LogisticRegression\n",
    "from sklearn.metrics import make_scorer, accuracy_score, f1_score"
   ]
  },
  {
   "cell_type": "markdown",
   "metadata": {},
   "source": [
    "## GridSearchCV - 유승완 _ SVM (C : 0.0001 ~ 0.01)"
   ]
  },
  {
   "cell_type": "code",
   "execution_count": null,
   "metadata": {},
   "outputs": [],
   "source": [
    "svc = SVC()\n",
    "\n",
    "svc_param = {'C':[0.0001, 0.0003, 0.001, 0.003, 0.01],\n",
    "             'kernel':['linear']\n",
    "            }\n",
    "\n",
    "scoring = {'f1 macro': make_scorer(f1_score , average='macro'),\n",
    "           'f1 micro': make_scorer(f1_score, average = 'micro'),\n",
    "           'Accuracy': make_scorer(accuracy_score)\n",
    "          }\n",
    "\n",
    "svm_grid = GridSearchCV(svc, svc_param, cv = 5, scoring=scoring, refit=False, n_jobs=-1)\n",
    "svm_grid.fit(train_mm, train_label)\n",
    "\n",
    "svmcv_result = pd.DataFrame(svm_grid.cv_results_)\n",
    "svmcv_result.to_csv(\"cv_result_유승완.csv\")"
   ]
  },
  {
   "cell_type": "markdown",
   "metadata": {},
   "source": [
    "## GridSearchCV - 최지웅_ SVM (C : 0.03 ~ 3)"
   ]
  },
  {
   "cell_type": "code",
   "execution_count": null,
   "metadata": {},
   "outputs": [],
   "source": [
    "svc = SVC()\n",
    "\n",
    "svc_param = {'C':[0.03, 0.1, 0.3, 1, 3],\n",
    "             'kernel':['linear']\n",
    "            }\n",
    "\n",
    "scoring = {'f1 macro': make_scorer(f1_score , average='macro'),\n",
    "           'f1 micro': make_scorer(f1_score, average = 'micro'),\n",
    "           'Accuracy': make_scorer(accuracy_score)\n",
    "          }\n",
    "\n",
    "svm_grid = GridSearchCV(svc, svc_param, cv = 5, scoring=scoring, refit=False, n_jobs=-1)\n",
    "svm_grid.fit(train_mm, train_label)\n",
    "\n",
    "svmcv_result = pd.DataFrame(svm_grid.cv_results_)\n",
    "svmcv_result.to_csv(\"cv_result_최지웅.csv\")"
   ]
  },
  {
   "cell_type": "markdown",
   "metadata": {},
   "source": [
    "## GridSearchCV - 황지원_LR (solver : linear, C : 0.01 ~ 3, panalty : l1, l2)"
   ]
  },
  {
   "cell_type": "code",
   "execution_count": null,
   "metadata": {},
   "outputs": [],
   "source": [
    "lr = LogisticRegression()\n",
    "\n",
    "lr_param={\"solver\":[\"liblinear\"], \n",
    "          \"C\":[0.01, 0.03, 0.1, 0.3, 1, 3], \n",
    "          \"penalty\":[\"l1\",\"l2\"]\n",
    "          }\n",
    "\n",
    "scoring = {'f1 macro': make_scorer(f1_score , average='macro'),\n",
    "           'f1 micro': make_scorer(f1_score, average = 'micro'),\n",
    "           'Accuracy': make_scorer(accuracy_score)\n",
    "          }\n",
    "\n",
    "lr_grid = GridSearchCV(lr, lr_param, cv=5, scoring=scoring, refit=False, n_jobs=-1)\n",
    "lr_grid.fit(train_mm, train_label)\n",
    "\n",
    "lrcv_result = pd.DataFrame(lr_grid.cv_results_)\n",
    "lrcv_result.to_csv(\"cv_result_황지원.csv\")"
   ]
  },
  {
   "cell_type": "markdown",
   "metadata": {},
   "source": [
    "## GridSearchCV - 유현상_LR (solver : saga, C : 0.01 ~ 3, panalty : l1, l2)"
   ]
  },
  {
   "cell_type": "code",
   "execution_count": null,
   "metadata": {},
   "outputs": [],
   "source": [
    "lr = LogisticRegression()\n",
    "\n",
    "lr_param={\"solver\":[\"saga\"], \n",
    "          \"C\":[0.01, 0.03, 0.1, 0.3, 1, 3], \n",
    "          \"penalty\":[\"l1\",\"l2\"]\n",
    "          }\n",
    "\n",
    "scoring = {'f1 macro': make_scorer(f1_score , average='macro'),\n",
    "           'f1 micro': make_scorer(f1_score, average = 'micro'),\n",
    "           'Accuracy': make_scorer(accuracy_score)\n",
    "          }\n",
    "\n",
    "lr_grid = GridSearchCV(lr, lr_param, cv=5, scoring=scoring, refit=False, n_jobs=-1)\n",
    "lr_grid.fit(train_mm, train_label)\n",
    "\n",
    "lrcv_result = pd.DataFrame(lr_grid.cv_results_)\n",
    "lrcv_result.to_csv(\"cv_result_유현상.csv\")"
   ]
  },
  {
   "cell_type": "markdown",
   "metadata": {},
   "source": [
    "## GridSearchCV - 조경찬_ LR (solver : newton-cg,panalty :  l2, C : 0.01 ~ 3)"
   ]
  },
  {
   "cell_type": "code",
   "execution_count": 1,
   "metadata": {},
   "outputs": [
    {
     "ename": "NameError",
     "evalue": "name 'LogisticRegression' is not defined",
     "output_type": "error",
     "traceback": [
      "\u001b[1;31m---------------------------------------------------------------------------\u001b[0m",
      "\u001b[1;31mNameError\u001b[0m                                 Traceback (most recent call last)",
      "\u001b[1;32m<ipython-input-1-52b3f4e09fd9>\u001b[0m in \u001b[0;36m<module>\u001b[1;34m\u001b[0m\n\u001b[1;32m----> 1\u001b[1;33m \u001b[0mlr\u001b[0m \u001b[1;33m=\u001b[0m \u001b[0mLogisticRegression\u001b[0m\u001b[1;33m(\u001b[0m\u001b[1;33m)\u001b[0m\u001b[1;33m\u001b[0m\u001b[1;33m\u001b[0m\u001b[0m\n\u001b[0m\u001b[0;32m      2\u001b[0m \u001b[1;33m\u001b[0m\u001b[0m\n\u001b[0;32m      3\u001b[0m lr_param={\"solver\":[\"newton-cg\"], \n\u001b[0;32m      4\u001b[0m           \u001b[1;34m\"C\"\u001b[0m\u001b[1;33m:\u001b[0m\u001b[1;33m[\u001b[0m\u001b[1;36m0.01\u001b[0m\u001b[1;33m,\u001b[0m \u001b[1;36m0.03\u001b[0m\u001b[1;33m,\u001b[0m \u001b[1;36m0.1\u001b[0m\u001b[1;33m,\u001b[0m \u001b[1;36m0.3\u001b[0m\u001b[1;33m,\u001b[0m \u001b[1;36m1\u001b[0m\u001b[1;33m,\u001b[0m \u001b[1;36m3\u001b[0m\u001b[1;33m]\u001b[0m\u001b[1;33m,\u001b[0m\u001b[1;33m\u001b[0m\u001b[1;33m\u001b[0m\u001b[0m\n\u001b[0;32m      5\u001b[0m           \u001b[1;34m\"penalty\"\u001b[0m\u001b[1;33m:\u001b[0m\u001b[1;33m[\u001b[0m\u001b[1;34m\"l2\"\u001b[0m\u001b[1;33m]\u001b[0m\u001b[1;33m\u001b[0m\u001b[1;33m\u001b[0m\u001b[0m\n",
      "\u001b[1;31mNameError\u001b[0m: name 'LogisticRegression' is not defined"
     ]
    }
   ],
   "source": [
    "lr = LogisticRegression()\n",
    "\n",
    "lr_param={\"solver\":[\"newton-cg\"], \n",
    "          \"C\":[0.01, 0.03, 0.1, 0.3, 1, 3], \n",
    "          \"penalty\":[\"l2\"]\n",
    "          }\n",
    "\n",
    "scoring = {'f1 macro': make_scorer(f1_score , average='macro'),\n",
    "           'f1 micro': make_scorer(f1_score, average = 'micro'),\n",
    "           'Accuracy': make_scorer(accuracy_score)\n",
    "          }\n",
    "\n",
    "lr_grid = GridSearchCV(lr, lr_param, cv=5, scoring=scoring, refit=False, n_jobs=-1)\n",
    "lr_grid.fit(train_mm, train_label)\n",
    "\n",
    "lrcv_result = pd.DataFrame(lr_grid.cv_results_)\n",
    "lrcv_result.to_csv(\"cv_result_조경찬.csv\")"
   ]
  },
  {
   "cell_type": "code",
   "execution_count": 2,
   "metadata": {},
   "outputs": [],
   "source": [
    "## Wow"
   ]
  },
  {
   "cell_type": "code",
   "execution_count": null,
   "metadata": {},
   "outputs": [],
   "source": []
  }
 ],
 "metadata": {
  "kernelspec": {
   "display_name": "Python 3",
   "language": "python",
   "name": "python3"
  },
  "language_info": {
   "codemirror_mode": {
    "name": "ipython",
    "version": 3
   },
   "file_extension": ".py",
   "mimetype": "text/x-python",
   "name": "python",
   "nbconvert_exporter": "python",
   "pygments_lexer": "ipython3",
   "version": "3.7.4"
  }
 },
 "nbformat": 4,
 "nbformat_minor": 2
}
