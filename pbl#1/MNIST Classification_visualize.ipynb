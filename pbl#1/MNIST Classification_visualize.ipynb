{
 "cells": [
  {
   "cell_type": "code",
   "execution_count": 20,
   "metadata": {},
   "outputs": [],
   "source": [
    "import os\n",
    "import struct\n",
    "import numpy as np\n",
    "import matplotlib.pyplot as plt\n",
    "\n",
    "\n",
    "\"\"\"\n",
    "Loosely inspired by http://abel.ee.ucla.edu/cvxopt/_downloads/mnist.py\n",
    "which is GPL licensed.\n",
    "\"\"\"\n",
    "\n",
    "def read(dataset = \"training\", path = \".\"):\n",
    "    \"\"\"\n",
    "    Python function for importing the MNIST data set.  It returns an iterator\n",
    "    of 2-tuples with the first element being the label and the second element\n",
    "    being a numpy.uint8 2D array of pixel data for the given image.\n",
    "    \"\"\"\n",
    "\n",
    "    if dataset is \"training\":\n",
    "        fname_img = os.path.join(path, 'train-images.idx3-ubyte')\n",
    "        fname_lbl = os.path.join(path, 'train-labels.idx1-ubyte')\n",
    "    elif dataset is \"testing\":\n",
    "        fname_img = os.path.join(path, 't10k-images.idx3-ubyte')\n",
    "        fname_lbl = os.path.join(path, 't10k-labels.idx1-ubyte')\n",
    "    else:\n",
    "        raise Exception(\"dataset must be 'testing' or 'training'\")\n",
    "\n",
    "    # Load everything in some numpy arrays\n",
    "    with open(fname_lbl, 'rb') as flbl:\n",
    "        magic, num = struct.unpack(\">II\", flbl.read(8))\n",
    "        lbl = np.fromfile(flbl, dtype=np.int8)\n",
    "        \n",
    "    with open(fname_img, 'rb') as fimg:\n",
    "        magic, num, rows, cols = struct.unpack(\">IIII\", fimg.read(16))\n",
    "        img = np.fromfile(fimg, dtype=np.uint8).reshape(len(lbl), rows, cols)\n",
    "\n",
    "    get_img = lambda idx: (lbl[idx], img[idx])\n",
    "\n",
    "    # Create an iterator which returns each image in turn\n",
    "    for i in range(len(lbl)):\n",
    "        yield get_img(i)\n",
    "\n",
    "def show(image):\n",
    "    \"\"\"\n",
    "    Render a given numpy.uint8 2D array of pixel data.\n",
    "    \"\"\"\n",
    "    from matplotlib import plt\n",
    "    import matplotlib as mpl\n",
    "    fig = pyplot.figure()\n",
    "    ax = fig.add_subplot(1,1,1)\n",
    "    imgplot = ax.imshow(image, cmap=mpl.cm.Greys)\n",
    "    imgplot.set_interpolation('nearest')\n",
    "    ax.xaxis.set_ticks_position('top')\n",
    "    ax.yaxis.set_ticks_position('left')\n",
    "pyplot.show()"
   ]
  },
  {
   "cell_type": "code",
   "execution_count": 7,
   "metadata": {},
   "outputs": [],
   "source": [
    "tr = list(read(\"training\", r\"../MNIST\"))\n",
    "te = list(read(\"testing\", r\"../MNIST\"))"
   ]
  },
  {
   "cell_type": "code",
   "execution_count": 9,
   "metadata": {},
   "outputs": [],
   "source": [
    "import pandas as pd\n",
    "\n",
    "label, pixel = tr[0]\n",
    "pixel = pixel.reshape(784)\n",
    "tr_label = np.array((label))\n",
    "tr_image = pixel\n",
    "\n",
    "for i in range(1, 1000): #숫자 수정 필요!\n",
    "    temp_label, temp_pixel = tr[i]\n",
    "    temp_pixel = temp_pixel.reshape(784)\n",
    "    tr_image = np.vstack((tr_image, temp_pixel))\n",
    "    tr_label = np.vstack((tr_label, temp_label))\n",
    "    \n",
    "#트레이닝 데이터 프래임 만들기\n",
    "tr_data = np.hstack((tr_image, tr_label))\n",
    "tr_data_df = pd.DataFrame(tr_data)\n",
    "tr_data_df = tr_data_df.rename(columns={784:\"label\"})\n",
    "\n",
    "X_tr_data = tr_data_df.drop('label', axis=1)\n",
    "y_tr_data = tr_data_df['label']\n",
    "\n",
    "### Scaling\n",
    "\n",
    "from sklearn.preprocessing import StandardScaler, MinMaxScaler\n",
    "\n",
    "st_scarler = StandardScaler()\n",
    "mm_scarler = MinMaxScaler()\n",
    "\n",
    "X_tr_st = pd.DataFrame(st_scarler.fit_transform(X_tr_data))\n",
    "X_tr_mm = pd.DataFrame(mm_scarler.fit_transform(X_tr_data))"
   ]
  },
  {
   "cell_type": "code",
   "execution_count": 10,
   "metadata": {},
   "outputs": [
    {
     "name": "stdout",
     "output_type": "stream",
     "text": [
      "## 교차검증 : 0\n",
      "학습 레이블 데아터 분포 :\n",
      " 7    93\n",
      "1    92\n",
      "4    84\n",
      "9    80\n",
      "2    79\n",
      "0    77\n",
      "6    75\n",
      "3    74\n",
      "5    73\n",
      "8    69\n",
      "dtype: int64\n",
      "검증 레이블 데이터 분포 :\n",
      " 7    24\n",
      "1    24\n",
      "4    21\n",
      "9    20\n",
      "2    20\n",
      "0    20\n",
      "6    19\n",
      "5    19\n",
      "3    19\n",
      "8    18\n",
      "dtype: int64\n"
     ]
    },
    {
     "name": "stderr",
     "output_type": "stream",
     "text": [
      "c:\\anaconda3\\envs\\dm2019\\lib\\site-packages\\sklearn\\linear_model\\logistic.py:432: FutureWarning: Default solver will be changed to 'lbfgs' in 0.22. Specify a solver to silence this warning.\n",
      "  FutureWarning)\n",
      "c:\\anaconda3\\envs\\dm2019\\lib\\site-packages\\sklearn\\linear_model\\logistic.py:469: FutureWarning: Default multi_class will be changed to 'auto' in 0.22. Specify the multi_class option to silence this warning.\n",
      "  \"this warning.\", FutureWarning)\n"
     ]
    },
    {
     "name": "stdout",
     "output_type": "stream",
     "text": [
      "교차 검증 0 정확도 :0.7794\n",
      "\n",
      "\n",
      "## 교차검증 : 1\n",
      "학습 레이블 데아터 분포 :\n",
      " 7    93\n",
      "1    93\n",
      "4    84\n",
      "9    80\n",
      "2    79\n",
      "0    77\n",
      "6    75\n",
      "3    74\n",
      "5    73\n",
      "8    69\n",
      "dtype: int64\n",
      "검증 레이블 데이터 분포 :\n",
      " 7    24\n",
      "1    23\n",
      "4    21\n",
      "9    20\n",
      "2    20\n",
      "0    20\n",
      "6    19\n",
      "5    19\n",
      "3    19\n",
      "8    18\n",
      "dtype: int64\n"
     ]
    },
    {
     "name": "stderr",
     "output_type": "stream",
     "text": [
      "c:\\anaconda3\\envs\\dm2019\\lib\\site-packages\\sklearn\\linear_model\\logistic.py:432: FutureWarning: Default solver will be changed to 'lbfgs' in 0.22. Specify a solver to silence this warning.\n",
      "  FutureWarning)\n",
      "c:\\anaconda3\\envs\\dm2019\\lib\\site-packages\\sklearn\\linear_model\\logistic.py:469: FutureWarning: Default multi_class will be changed to 'auto' in 0.22. Specify the multi_class option to silence this warning.\n",
      "  \"this warning.\", FutureWarning)\n"
     ]
    },
    {
     "name": "stdout",
     "output_type": "stream",
     "text": [
      "교차 검증 1 정확도 :0.8522\n",
      "\n",
      "\n",
      "## 교차검증 : 2\n",
      "학습 레이블 데아터 분포 :\n",
      " 7    94\n",
      "1    93\n",
      "4    84\n",
      "9    80\n",
      "2    79\n",
      "0    78\n",
      "6    75\n",
      "5    74\n",
      "3    74\n",
      "8    70\n",
      "dtype: int64\n",
      "검증 레이블 데이터 분포 :\n",
      " 7    23\n",
      "1    23\n",
      "4    21\n",
      "9    20\n",
      "2    20\n",
      "6    19\n",
      "3    19\n",
      "0    19\n",
      "5    18\n",
      "8    17\n",
      "dtype: int64\n"
     ]
    },
    {
     "name": "stderr",
     "output_type": "stream",
     "text": [
      "c:\\anaconda3\\envs\\dm2019\\lib\\site-packages\\sklearn\\linear_model\\logistic.py:432: FutureWarning: Default solver will be changed to 'lbfgs' in 0.22. Specify a solver to silence this warning.\n",
      "  FutureWarning)\n",
      "c:\\anaconda3\\envs\\dm2019\\lib\\site-packages\\sklearn\\linear_model\\logistic.py:469: FutureWarning: Default multi_class will be changed to 'auto' in 0.22. Specify the multi_class option to silence this warning.\n",
      "  \"this warning.\", FutureWarning)\n"
     ]
    },
    {
     "name": "stdout",
     "output_type": "stream",
     "text": [
      "교차 검증 2 정확도 :0.8090\n",
      "\n",
      "\n",
      "## 교차검증 : 3\n",
      "학습 레이블 데아터 분포 :\n",
      " 7    94\n",
      "1    93\n",
      "4    84\n",
      "9    80\n",
      "2    79\n",
      "0    78\n",
      "6    75\n",
      "3    75\n",
      "5    74\n",
      "8    70\n",
      "dtype: int64\n",
      "검증 레이블 데이터 분포 :\n",
      " 7    23\n",
      "1    23\n",
      "4    21\n",
      "9    20\n",
      "2    20\n",
      "6    19\n",
      "0    19\n",
      "5    18\n",
      "3    18\n",
      "8    17\n",
      "dtype: int64\n"
     ]
    },
    {
     "name": "stderr",
     "output_type": "stream",
     "text": [
      "c:\\anaconda3\\envs\\dm2019\\lib\\site-packages\\sklearn\\linear_model\\logistic.py:432: FutureWarning: Default solver will be changed to 'lbfgs' in 0.22. Specify a solver to silence this warning.\n",
      "  FutureWarning)\n",
      "c:\\anaconda3\\envs\\dm2019\\lib\\site-packages\\sklearn\\linear_model\\logistic.py:469: FutureWarning: Default multi_class will be changed to 'auto' in 0.22. Specify the multi_class option to silence this warning.\n",
      "  \"this warning.\", FutureWarning)\n"
     ]
    },
    {
     "name": "stdout",
     "output_type": "stream",
     "text": [
      "교차 검증 3 정확도 :0.7778\n",
      "\n",
      "\n",
      "## 교차검증 : 4\n",
      "학습 레이블 데아터 분포 :\n",
      " 7    94\n",
      "1    93\n",
      "4    84\n",
      "9    80\n",
      "2    80\n",
      "0    78\n",
      "6    76\n",
      "3    75\n",
      "5    74\n",
      "8    70\n",
      "dtype: int64\n",
      "검증 레이블 데이터 분포 :\n",
      " 7    23\n",
      "1    23\n",
      "4    21\n",
      "9    20\n",
      "2    19\n",
      "0    19\n",
      "6    18\n",
      "5    18\n",
      "3    18\n",
      "8    17\n",
      "dtype: int64\n"
     ]
    },
    {
     "name": "stderr",
     "output_type": "stream",
     "text": [
      "c:\\anaconda3\\envs\\dm2019\\lib\\site-packages\\sklearn\\linear_model\\logistic.py:432: FutureWarning: Default solver will be changed to 'lbfgs' in 0.22. Specify a solver to silence this warning.\n",
      "  FutureWarning)\n",
      "c:\\anaconda3\\envs\\dm2019\\lib\\site-packages\\sklearn\\linear_model\\logistic.py:469: FutureWarning: Default multi_class will be changed to 'auto' in 0.22. Specify the multi_class option to silence this warning.\n",
      "  \"this warning.\", FutureWarning)\n"
     ]
    },
    {
     "name": "stdout",
     "output_type": "stream",
     "text": [
      "교차 검증 4 정확도 :0.7704\n",
      "\n",
      "\n",
      "평균 정확도 :0.7978\n",
      "\n",
      "\n",
      "## 교차검증 : 0\n",
      "학습 레이블 데아터 분포 :\n",
      " 7    93\n",
      "1    92\n",
      "4    84\n",
      "9    80\n",
      "2    79\n",
      "0    77\n",
      "6    75\n",
      "3    74\n",
      "5    73\n",
      "8    69\n",
      "dtype: int64\n",
      "검증 레이블 데이터 분포 :\n",
      " 7    24\n",
      "1    24\n",
      "4    21\n",
      "9    20\n",
      "2    20\n",
      "0    20\n",
      "6    19\n",
      "5    19\n",
      "3    19\n",
      "8    18\n",
      "dtype: int64\n"
     ]
    },
    {
     "name": "stderr",
     "output_type": "stream",
     "text": [
      "c:\\anaconda3\\envs\\dm2019\\lib\\site-packages\\sklearn\\svm\\base.py:193: FutureWarning: The default value of gamma will change from 'auto' to 'scale' in version 0.22 to account better for unscaled features. Set gamma explicitly to 'auto' or 'scale' to avoid this warning.\n",
      "  \"avoid this warning.\", FutureWarning)\n"
     ]
    },
    {
     "name": "stdout",
     "output_type": "stream",
     "text": [
      "교차 검증 0 정확도 :0.8824\n",
      "\n",
      "\n",
      "## 교차검증 : 1\n",
      "학습 레이블 데아터 분포 :\n",
      " 7    93\n",
      "1    93\n",
      "4    84\n",
      "9    80\n",
      "2    79\n",
      "0    77\n",
      "6    75\n",
      "3    74\n",
      "5    73\n",
      "8    69\n",
      "dtype: int64\n",
      "검증 레이블 데이터 분포 :\n",
      " 7    24\n",
      "1    23\n",
      "4    21\n",
      "9    20\n",
      "2    20\n",
      "0    20\n",
      "6    19\n",
      "5    19\n",
      "3    19\n",
      "8    18\n",
      "dtype: int64\n"
     ]
    },
    {
     "name": "stderr",
     "output_type": "stream",
     "text": [
      "c:\\anaconda3\\envs\\dm2019\\lib\\site-packages\\sklearn\\svm\\base.py:193: FutureWarning: The default value of gamma will change from 'auto' to 'scale' in version 0.22 to account better for unscaled features. Set gamma explicitly to 'auto' or 'scale' to avoid this warning.\n",
      "  \"avoid this warning.\", FutureWarning)\n"
     ]
    },
    {
     "name": "stdout",
     "output_type": "stream",
     "text": [
      "교차 검증 1 정확도 :0.8768\n",
      "\n",
      "\n",
      "## 교차검증 : 2\n",
      "학습 레이블 데아터 분포 :\n",
      " 7    94\n",
      "1    93\n",
      "4    84\n",
      "9    80\n",
      "2    79\n",
      "0    78\n",
      "6    75\n",
      "5    74\n",
      "3    74\n",
      "8    70\n",
      "dtype: int64\n",
      "검증 레이블 데이터 분포 :\n",
      " 7    23\n",
      "1    23\n",
      "4    21\n",
      "9    20\n",
      "2    20\n",
      "6    19\n",
      "3    19\n",
      "0    19\n",
      "5    18\n",
      "8    17\n",
      "dtype: int64\n"
     ]
    },
    {
     "name": "stderr",
     "output_type": "stream",
     "text": [
      "c:\\anaconda3\\envs\\dm2019\\lib\\site-packages\\sklearn\\svm\\base.py:193: FutureWarning: The default value of gamma will change from 'auto' to 'scale' in version 0.22 to account better for unscaled features. Set gamma explicitly to 'auto' or 'scale' to avoid this warning.\n",
      "  \"avoid this warning.\", FutureWarning)\n"
     ]
    },
    {
     "name": "stdout",
     "output_type": "stream",
     "text": [
      "교차 검증 2 정확도 :0.8141\n",
      "\n",
      "\n",
      "## 교차검증 : 3\n",
      "학습 레이블 데아터 분포 :\n",
      " 7    94\n",
      "1    93\n",
      "4    84\n",
      "9    80\n",
      "2    79\n",
      "0    78\n",
      "6    75\n",
      "3    75\n",
      "5    74\n",
      "8    70\n",
      "dtype: int64\n",
      "검증 레이블 데이터 분포 :\n",
      " 7    23\n",
      "1    23\n",
      "4    21\n",
      "9    20\n",
      "2    20\n",
      "6    19\n",
      "0    19\n",
      "5    18\n",
      "3    18\n",
      "8    17\n",
      "dtype: int64\n"
     ]
    },
    {
     "name": "stderr",
     "output_type": "stream",
     "text": [
      "c:\\anaconda3\\envs\\dm2019\\lib\\site-packages\\sklearn\\svm\\base.py:193: FutureWarning: The default value of gamma will change from 'auto' to 'scale' in version 0.22 to account better for unscaled features. Set gamma explicitly to 'auto' or 'scale' to avoid this warning.\n",
      "  \"avoid this warning.\", FutureWarning)\n"
     ]
    },
    {
     "name": "stdout",
     "output_type": "stream",
     "text": [
      "교차 검증 3 정확도 :0.8687\n",
      "\n",
      "\n",
      "## 교차검증 : 4\n",
      "학습 레이블 데아터 분포 :\n",
      " 7    94\n",
      "1    93\n",
      "4    84\n",
      "9    80\n",
      "2    80\n",
      "0    78\n",
      "6    76\n",
      "3    75\n",
      "5    74\n",
      "8    70\n",
      "dtype: int64\n",
      "검증 레이블 데이터 분포 :\n",
      " 7    23\n",
      "1    23\n",
      "4    21\n",
      "9    20\n",
      "2    19\n",
      "0    19\n",
      "6    18\n",
      "5    18\n",
      "3    18\n",
      "8    17\n",
      "dtype: int64\n"
     ]
    },
    {
     "name": "stderr",
     "output_type": "stream",
     "text": [
      "c:\\anaconda3\\envs\\dm2019\\lib\\site-packages\\sklearn\\svm\\base.py:193: FutureWarning: The default value of gamma will change from 'auto' to 'scale' in version 0.22 to account better for unscaled features. Set gamma explicitly to 'auto' or 'scale' to avoid this warning.\n",
      "  \"avoid this warning.\", FutureWarning)\n"
     ]
    },
    {
     "name": "stdout",
     "output_type": "stream",
     "text": [
      "교차 검증 4 정확도 :0.8469\n",
      "\n",
      "\n",
      "평균 정확도 :0.8578\n",
      "\n",
      "\n"
     ]
    }
   ],
   "source": [
    "from sklearn.model_selection import StratifiedKFold\n",
    "from sklearn.linear_model import LogisticRegression\n",
    "from sklearn.svm import SVC\n",
    "from sklearn.metrics import accuracy_score\n",
    "\n",
    "lr_clf = LogisticRegression()\n",
    "svm = SVC()\n",
    "\n",
    "\n",
    "\n",
    "def exec_Skfold(clf, folds=5) :\n",
    "    Skfold=StratifiedKFold(n_splits=folds)\n",
    "    scores=[]\n",
    "    \n",
    "    for iter_counts, (train_index, test_index) in enumerate(Skfold.split(X_tr_st, y_tr_data)):\n",
    "        X_train, X_test = X_tr_st.values[train_index], X_tr_st.values[test_index]\n",
    "        y_train, y_test = y_tr_data.values[train_index], y_tr_data.values[test_index]\n",
    "        \n",
    "        print('## 교차검증 : {0}'.format(iter_counts))\n",
    "        print('학습 레이블 데아터 분포 :\\n', pd.Series(y_train).value_counts())\n",
    "        print('검증 레이블 데이터 분포 :\\n', pd.Series(y_test).value_counts())\n",
    "        \n",
    "        clf.fit(X_train, y_train)\n",
    "        predictions = clf.predict(X_test)\n",
    "        accuracy = accuracy_score(y_test, predictions)\n",
    "        scores.append(accuracy)\n",
    "        print(\"교차 검증 {0} 정확도 :{1:.4f}\".format(iter_counts, accuracy))\n",
    "        \n",
    "        print(\"\\n\")\n",
    "        \n",
    "    mean_score = np.mean(scores)\n",
    "    print(\"평균 정확도 :{0:.4f}\".format(mean_score))\n",
    "    print(\"\\n\")\n",
    "    \n",
    "exec_Skfold(lr_clf, folds=5)\n",
    "exec_Skfold(svm, folds=5)"
   ]
  },
  {
   "cell_type": "code",
   "execution_count": 12,
   "metadata": {},
   "outputs": [],
   "source": [
    "from sklearn.datasets import load_iris\n",
    "iris = load_iris()\n",
    "from sklearn.model_selection import cross_val_score\n",
    "\n",
    "logreg = LogisticRegression()"
   ]
  },
  {
   "cell_type": "code",
   "execution_count": 13,
   "metadata": {},
   "outputs": [
    {
     "name": "stdout",
     "output_type": "stream",
     "text": [
      "cross validation score : [1.         0.96666667 0.93333333 0.9        1.        ]\n"
     ]
    },
    {
     "name": "stderr",
     "output_type": "stream",
     "text": [
      "c:\\anaconda3\\envs\\dm2019\\lib\\site-packages\\sklearn\\linear_model\\logistic.py:432: FutureWarning: Default solver will be changed to 'lbfgs' in 0.22. Specify a solver to silence this warning.\n",
      "  FutureWarning)\n",
      "c:\\anaconda3\\envs\\dm2019\\lib\\site-packages\\sklearn\\linear_model\\logistic.py:469: FutureWarning: Default multi_class will be changed to 'auto' in 0.22. Specify the multi_class option to silence this warning.\n",
      "  \"this warning.\", FutureWarning)\n",
      "c:\\anaconda3\\envs\\dm2019\\lib\\site-packages\\sklearn\\linear_model\\logistic.py:432: FutureWarning: Default solver will be changed to 'lbfgs' in 0.22. Specify a solver to silence this warning.\n",
      "  FutureWarning)\n",
      "c:\\anaconda3\\envs\\dm2019\\lib\\site-packages\\sklearn\\linear_model\\logistic.py:469: FutureWarning: Default multi_class will be changed to 'auto' in 0.22. Specify the multi_class option to silence this warning.\n",
      "  \"this warning.\", FutureWarning)\n",
      "c:\\anaconda3\\envs\\dm2019\\lib\\site-packages\\sklearn\\linear_model\\logistic.py:432: FutureWarning: Default solver will be changed to 'lbfgs' in 0.22. Specify a solver to silence this warning.\n",
      "  FutureWarning)\n",
      "c:\\anaconda3\\envs\\dm2019\\lib\\site-packages\\sklearn\\linear_model\\logistic.py:469: FutureWarning: Default multi_class will be changed to 'auto' in 0.22. Specify the multi_class option to silence this warning.\n",
      "  \"this warning.\", FutureWarning)\n",
      "c:\\anaconda3\\envs\\dm2019\\lib\\site-packages\\sklearn\\linear_model\\logistic.py:432: FutureWarning: Default solver will be changed to 'lbfgs' in 0.22. Specify a solver to silence this warning.\n",
      "  FutureWarning)\n",
      "c:\\anaconda3\\envs\\dm2019\\lib\\site-packages\\sklearn\\linear_model\\logistic.py:469: FutureWarning: Default multi_class will be changed to 'auto' in 0.22. Specify the multi_class option to silence this warning.\n",
      "  \"this warning.\", FutureWarning)\n",
      "c:\\anaconda3\\envs\\dm2019\\lib\\site-packages\\sklearn\\linear_model\\logistic.py:432: FutureWarning: Default solver will be changed to 'lbfgs' in 0.22. Specify a solver to silence this warning.\n",
      "  FutureWarning)\n",
      "c:\\anaconda3\\envs\\dm2019\\lib\\site-packages\\sklearn\\linear_model\\logistic.py:469: FutureWarning: Default multi_class will be changed to 'auto' in 0.22. Specify the multi_class option to silence this warning.\n",
      "  \"this warning.\", FutureWarning)\n"
     ]
    }
   ],
   "source": [
    "score = cross_val_score(logreg, iris.data, iris.target, cv=5)\n",
    "print('cross validation score : %s'%score)"
   ]
  },
  {
   "cell_type": "code",
   "execution_count": 28,
   "metadata": {},
   "outputs": [
    {
     "name": "stdout",
     "output_type": "stream",
     "text": [
      "cross validation score : [0.96 0.92 0.92 0.96 1.   0.88]\n",
      "mean score : {:,2f} 0.94\n"
     ]
    },
    {
     "name": "stderr",
     "output_type": "stream",
     "text": [
      "c:\\anaconda3\\envs\\dm2019\\lib\\site-packages\\sklearn\\linear_model\\logistic.py:432: FutureWarning: Default solver will be changed to 'lbfgs' in 0.22. Specify a solver to silence this warning.\n",
      "  FutureWarning)\n",
      "c:\\anaconda3\\envs\\dm2019\\lib\\site-packages\\sklearn\\linear_model\\logistic.py:469: FutureWarning: Default multi_class will be changed to 'auto' in 0.22. Specify the multi_class option to silence this warning.\n",
      "  \"this warning.\", FutureWarning)\n",
      "c:\\anaconda3\\envs\\dm2019\\lib\\site-packages\\sklearn\\linear_model\\logistic.py:432: FutureWarning: Default solver will be changed to 'lbfgs' in 0.22. Specify a solver to silence this warning.\n",
      "  FutureWarning)\n",
      "c:\\anaconda3\\envs\\dm2019\\lib\\site-packages\\sklearn\\linear_model\\logistic.py:469: FutureWarning: Default multi_class will be changed to 'auto' in 0.22. Specify the multi_class option to silence this warning.\n",
      "  \"this warning.\", FutureWarning)\n",
      "c:\\anaconda3\\envs\\dm2019\\lib\\site-packages\\sklearn\\linear_model\\logistic.py:432: FutureWarning: Default solver will be changed to 'lbfgs' in 0.22. Specify a solver to silence this warning.\n",
      "  FutureWarning)\n",
      "c:\\anaconda3\\envs\\dm2019\\lib\\site-packages\\sklearn\\linear_model\\logistic.py:469: FutureWarning: Default multi_class will be changed to 'auto' in 0.22. Specify the multi_class option to silence this warning.\n",
      "  \"this warning.\", FutureWarning)\n",
      "c:\\anaconda3\\envs\\dm2019\\lib\\site-packages\\sklearn\\linear_model\\logistic.py:432: FutureWarning: Default solver will be changed to 'lbfgs' in 0.22. Specify a solver to silence this warning.\n",
      "  FutureWarning)\n",
      "c:\\anaconda3\\envs\\dm2019\\lib\\site-packages\\sklearn\\linear_model\\logistic.py:469: FutureWarning: Default multi_class will be changed to 'auto' in 0.22. Specify the multi_class option to silence this warning.\n",
      "  \"this warning.\", FutureWarning)\n",
      "c:\\anaconda3\\envs\\dm2019\\lib\\site-packages\\sklearn\\linear_model\\logistic.py:432: FutureWarning: Default solver will be changed to 'lbfgs' in 0.22. Specify a solver to silence this warning.\n",
      "  FutureWarning)\n",
      "c:\\anaconda3\\envs\\dm2019\\lib\\site-packages\\sklearn\\linear_model\\logistic.py:469: FutureWarning: Default multi_class will be changed to 'auto' in 0.22. Specify the multi_class option to silence this warning.\n",
      "  \"this warning.\", FutureWarning)\n",
      "c:\\anaconda3\\envs\\dm2019\\lib\\site-packages\\sklearn\\linear_model\\logistic.py:432: FutureWarning: Default solver will be changed to 'lbfgs' in 0.22. Specify a solver to silence this warning.\n",
      "  FutureWarning)\n",
      "c:\\anaconda3\\envs\\dm2019\\lib\\site-packages\\sklearn\\linear_model\\logistic.py:469: FutureWarning: Default multi_class will be changed to 'auto' in 0.22. Specify the multi_class option to silence this warning.\n",
      "  \"this warning.\", FutureWarning)\n"
     ]
    }
   ],
   "source": [
    "from sklearn.model_selection import KFold\n",
    "kfold = KFold(n_splits=6, shuffle=True, random_state=0)\n",
    "score = cross_val_score(logreg, iris.data, iris.target, cv=kfold)\n",
    "print('cross validation score : {}'.format(score))\n",
    "print('mean score : {:,2f}',format(score.mean()))"
   ]
  },
  {
   "cell_type": "code",
   "execution_count": 22,
   "metadata": {},
   "outputs": [],
   "source": [
    "def plot_cv_indices(cv, X, y, group, ax, n_splits, lw=10):\n",
    "    \"\"\"Create a sample plot for indices of a cross-validation object.\"\"\"\n",
    "\n",
    "    # Generate the training/testing visualizations for each CV split\n",
    "    for ii, (tr, tt) in enumerate(cv.split(X=X, y=y, groups=group)):\n",
    "        # Fill in indices with the training/test groups\n",
    "        indices = np.array([np.nan] * len(X))\n",
    "        indices[tt] = 1\n",
    "        indices[tr] = 0\n",
    "\n",
    "        # Visualize the results\n",
    "        ax.scatter(range(len(indices)), [ii + .5] * len(indices),\n",
    "                   c=indices, marker='_', lw=lw, cmap=cmap_cv,\n",
    "                   vmin=-.2, vmax=1.2)\n",
    "\n",
    "    # Plot the data classes and groups at the end\n",
    "    ax.scatter(range(len(X)), [ii + 1.5] * len(X),\n",
    "               c=y, marker='_', lw=lw, cmap=cmap_data)\n",
    "\n",
    "    ax.scatter(range(len(X)), [ii + 2.5] * len(X),\n",
    "               c=group, marker='_', lw=lw, cmap=cmap_data)\n",
    "\n",
    "    # Formatting\n",
    "    yticklabels = list(range(n_splits)) + ['class', 'group']\n",
    "    ax.set(yticks=np.arange(n_splits+2) + .5, yticklabels=yticklabels,\n",
    "           xlabel='Sample index', ylabel=\"CV iteration\",\n",
    "           ylim=[n_splits+2.2, -.2], xlim=[0, 100])\n",
    "    ax.set_title('{}'.format(type(cv).__name__), fontsize=15)\n",
    "    return ax"
   ]
  },
  {
   "cell_type": "code",
   "execution_count": 24,
   "metadata": {},
   "outputs": [],
   "source": [
    "groups = np.hstack([[ii] * 10 for ii in range(10)])\n",
    "# fig, ax = plt.subplots()\n",
    "# plot_cv_indices(kfold, iris.data, iris.target, groups, ax, 2)"
   ]
  },
  {
   "cell_type": "code",
   "execution_count": 27,
   "metadata": {},
   "outputs": [
    {
     "data": {
      "text/plain": [
       "array([0, 0, 0, 0, 0, 0, 0, 0, 0, 0, 1, 1, 1, 1, 1, 1, 1, 1, 1, 1, 2, 2,\n",
       "       2, 2, 2, 2, 2, 2, 2, 2, 3, 3, 3, 3, 3, 3, 3, 3, 3, 3, 4, 4, 4, 4,\n",
       "       4, 4, 4, 4, 4, 4, 5, 5, 5, 5, 5, 5, 5, 5, 5, 5, 6, 6, 6, 6, 6, 6,\n",
       "       6, 6, 6, 6, 7, 7, 7, 7, 7, 7, 7, 7, 7, 7, 8, 8, 8, 8, 8, 8, 8, 8,\n",
       "       8, 8, 9, 9, 9, 9, 9, 9, 9, 9, 9, 9])"
      ]
     },
     "execution_count": 27,
     "metadata": {},
     "output_type": "execute_result"
    }
   ],
   "source": [
    "groups"
   ]
  },
  {
   "cell_type": "code",
   "execution_count": null,
   "metadata": {},
   "outputs": [],
   "source": []
  }
 ],
 "metadata": {
  "kernelspec": {
   "display_name": "Python 3",
   "language": "python",
   "name": "python3"
  },
  "language_info": {
   "codemirror_mode": {
    "name": "ipython",
    "version": 3
   },
   "file_extension": ".py",
   "mimetype": "text/x-python",
   "name": "python",
   "nbconvert_exporter": "python",
   "pygments_lexer": "ipython3",
   "version": "3.7.4"
  }
 },
 "nbformat": 4,
 "nbformat_minor": 2
}
