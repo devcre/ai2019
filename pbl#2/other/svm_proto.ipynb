{
 "cells": [
  {
   "cell_type": "code",
   "execution_count": 3,
   "metadata": {},
   "outputs": [
    {
     "ename": "FileNotFoundError",
     "evalue": "[Errno 2] No such file or directory: './data\\\\train-labels.idx1-ubyte'",
     "output_type": "error",
     "traceback": [
      "\u001b[1;31m---------------------------------------------------------------------------\u001b[0m",
      "\u001b[1;31mFileNotFoundError\u001b[0m                         Traceback (most recent call last)",
      "\u001b[1;32m<ipython-input-3-d9d9773225c5>\u001b[0m in \u001b[0;36m<module>\u001b[1;34m\u001b[0m\n\u001b[0;32m     29\u001b[0m \u001b[1;31m#### Loading the data\u001b[0m\u001b[1;33m\u001b[0m\u001b[1;33m\u001b[0m\u001b[1;33m\u001b[0m\u001b[0m\n\u001b[0;32m     30\u001b[0m \u001b[1;33m\u001b[0m\u001b[0m\n\u001b[1;32m---> 31\u001b[1;33m \u001b[0mX_train\u001b[0m\u001b[1;33m,\u001b[0m \u001b[0my_train\u001b[0m \u001b[1;33m=\u001b[0m \u001b[0mload_mnist\u001b[0m\u001b[1;33m(\u001b[0m\u001b[1;34m'./data'\u001b[0m\u001b[1;33m,\u001b[0m \u001b[0mkind\u001b[0m\u001b[1;33m=\u001b[0m\u001b[1;34m'train'\u001b[0m\u001b[1;33m)\u001b[0m\u001b[1;33m\u001b[0m\u001b[1;33m\u001b[0m\u001b[0m\n\u001b[0m\u001b[0;32m     32\u001b[0m \u001b[0mX_test\u001b[0m\u001b[1;33m,\u001b[0m \u001b[0my_test\u001b[0m \u001b[1;33m=\u001b[0m \u001b[0mload_mnist\u001b[0m\u001b[1;33m(\u001b[0m\u001b[1;34m'./data'\u001b[0m\u001b[1;33m,\u001b[0m \u001b[0mkind\u001b[0m\u001b[1;33m=\u001b[0m\u001b[1;34m't10k'\u001b[0m\u001b[1;33m)\u001b[0m\u001b[1;33m\u001b[0m\u001b[1;33m\u001b[0m\u001b[0m\n",
      "\u001b[1;32m<ipython-input-3-d9d9773225c5>\u001b[0m in \u001b[0;36mload_mnist\u001b[1;34m(path, kind)\u001b[0m\n\u001b[0;32m     13\u001b[0m                                % kind)\n\u001b[0;32m     14\u001b[0m \u001b[1;33m\u001b[0m\u001b[0m\n\u001b[1;32m---> 15\u001b[1;33m     \u001b[1;32mwith\u001b[0m \u001b[0mopen\u001b[0m\u001b[1;33m(\u001b[0m\u001b[0mlabels_path\u001b[0m\u001b[1;33m,\u001b[0m \u001b[1;34m'rb'\u001b[0m\u001b[1;33m)\u001b[0m \u001b[1;32mas\u001b[0m \u001b[0mlbpath\u001b[0m\u001b[1;33m:\u001b[0m\u001b[1;33m\u001b[0m\u001b[1;33m\u001b[0m\u001b[0m\n\u001b[0m\u001b[0;32m     16\u001b[0m         magic, n = struct.unpack('>II',\n\u001b[0;32m     17\u001b[0m                                  lbpath.read(8))\n",
      "\u001b[1;31mFileNotFoundError\u001b[0m: [Errno 2] No such file or directory: './data\\\\train-labels.idx1-ubyte'"
     ]
    }
   ],
   "source": []
  },
  {
   "cell_type": "code",
   "execution_count": null,
   "metadata": {},
   "outputs": [],
   "source": [
    "class MyClassifer(object):\n",
    "    \n",
    "    def __init__(self, C=0.1, alpha=.1, n_iter=1, shuffle=True):\n",
    "        self.C=C#init_w+pridicted=c\n",
    "        self.alpha=alpha\n",
    "        self.n_iter=n_iter\n",
    "        \n",
    "        self.shuffle=shuffle\n",
    "    \n",
    "    def fit(self, X, y):\n",
    "        data_n, data_f=np.shape(X)\n",
    "        init_w=np.random.rand(data_f,1)\n",
    "        weights=np.zeros((10,785))\n",
    "        w=init_w\n",
    "        for num in range(0,9):\n",
    "            for _ in range(0, self.n_iter):\n",
    "                \"\"\"\n",
    "                if self.shuffle:\n",
    "                    s_data,s_labels=self._shuffle(X,y)\n",
    "                \"\"\"\n",
    "                delta_w=np.zeros((data_f,1))\n",
    "                for i in range(0, data_n):\n",
    "                    true_class=self.find_labels(num, y[i])\n",
    "                    pridicted_class=self.pridicted(X[i],w)\n",
    "                    \n",
    "                    delta_w=self.alpha*(true_class-pridicted_class)*X[i]\n",
    "                    w=w+delta_w\n",
    "            weights=w\n",
    "        return weights\n",
    "    \n",
    "    def find_labels(self, num, y):\n",
    "        return (y==num)*1\n",
    "    \n",
    "    def pridicted(self, X_p, w):\n",
    "        return np.where(self.net_input(X_p,w) >= 0, 1, -1)\n",
    "    \n",
    "    def net_input(self, X_p,w):\n",
    "        return np.dot(X_p, w)\n",
    "    \n",
    "    def _shuffle(self, X, y):\n",
    "        \"\"\"Shuffle training data\"\"\"\n",
    "        r = np.random.permutation(len(y))\n",
    "        return X[r], y[r]\n",
    "    \n",
    "    \n",
    "    \n",
    "    def test(self, X, y, w):\n",
    "        data_n, data_f=np.shape(X)\n",
    "        correct=0\n",
    "        \n",
    "        for i in range(data_n):\n",
    "            p=self.onehot(X[i],w)\n",
    "            self.img(i,X,y,p)\n",
    "            if(y[i]==p):\n",
    "                correct=correct+1\n",
    "                \n",
    "        return correct/data_n\n",
    "    \n",
    "    def onehot(X, w):\n",
    "        a = np.dot(X,np.transpose(w))\n",
    "        b = len(np.shape(X))\n",
    "        if b == 1:\n",
    "            return np.argmax(a)\n",
    "        return np.argmax(a, axis=1)\n",
    "    \n",
    "    def img(self, row, X, y, p):\n",
    "        image = np.zeros((28,28))\n",
    "        for i in range(0,28):\n",
    "            for j in range(0,28):\n",
    "                pix = 28*i+j\n",
    "                image[i,j] = X[row, pix]\n",
    "        plt.imshow(image, cmap = 'gray')\n",
    "        plt.title('%d)true_value: %d pridicted_value: %d' %(row+1, y[row], p))\n",
    "        plt.show()\n",
    "        return print(X[row,0])"
   ]
  }
 ],
 "metadata": {
  "kernelspec": {
   "display_name": "Python 3",
   "language": "python",
   "name": "python3"
  },
  "language_info": {
   "codemirror_mode": {
    "name": "ipython",
    "version": 3
   },
   "file_extension": ".py",
   "mimetype": "text/x-python",
   "name": "python",
   "nbconvert_exporter": "python",
   "pygments_lexer": "ipython3",
   "version": "3.7.4"
  }
 },
 "nbformat": 4,
 "nbformat_minor": 2
}
