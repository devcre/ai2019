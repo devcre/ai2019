{
 "cells": [
  {
   "cell_type": "code",
   "execution_count": 27,
   "metadata": {},
   "outputs": [],
   "source": [
    "import numpy as np\n",
    "import matplotlib.pyplot as plt\n",
    "import struct\n",
    "from sklearn import svm, metrics\n",
    "import math\n",
    "%matplotlib inline"
   ]
  },
  {
   "cell_type": "code",
   "execution_count": 5,
   "metadata": {},
   "outputs": [],
   "source": [
    "def read_idx(filename):\n",
    "    with open(filename, 'rb') as f:\n",
    "        zero, data_type, dims = struct.unpack('>HBB', f.read(4))\n",
    "        shape = tuple(struct.unpack('>I', f.read(4))[0] for d in range(dims))\n",
    "        return np.fromstring(f.read(), dtype=np.uint8).reshape(shape)"
   ]
  },
  {
   "cell_type": "code",
   "execution_count": 14,
   "metadata": {},
   "outputs": [
    {
     "name": "stderr",
     "output_type": "stream",
     "text": [
      "c:\\anaconda3\\envs\\dm2019\\lib\\site-packages\\ipykernel_launcher.py:5: DeprecationWarning: The binary mode of fromstring is deprecated, as it behaves surprisingly on unicode inputs. Use frombuffer instead\n",
      "  \"\"\"\n"
     ]
    }
   ],
   "source": [
    "## loading mnist dataset\n",
    "\n",
    "raw_train = read_idx(\"./data/train-patterns-idx3-ubyte\")\n",
    "train_data = np.reshape(raw_train, (60000, 28*28))\n",
    "train_label = read_idx(\"./data/train-labels-idx1-ubyte\")\n",
    "\n",
    "raw_test = read_idx(\"./data/mnist_new_test-patterns-idx3-ubyte\")\n",
    "test_data = np.reshape(raw_test, (10000, 28*28))\n",
    "test_label = read_idx(\"./data/mnist_new_test-labels-idx1-ubyte\")"
   ]
  },
  {
   "cell_type": "code",
   "execution_count": 15,
   "metadata": {},
   "outputs": [],
   "source": [
    "## Standardizing the features\n",
    "from sklearn.preprocessing import StandardScaler\n",
    "\n",
    "sc = StandardScaler()\n",
    "sc.fit(train_data)\n",
    "train_std = sc.transform(train_data)\n",
    "test_std = sc.transform(test_data)"
   ]
  },
  {
   "cell_type": "code",
   "execution_count": 16,
   "metadata": {},
   "outputs": [
    {
     "name": "stdout",
     "output_type": "stream",
     "text": [
      "(60000, 784) (60000,)\n"
     ]
    }
   ],
   "source": [
    "print(train_std.shape, train_label.shape)"
   ]
  },
  {
   "cell_type": "code",
   "execution_count": 17,
   "metadata": {},
   "outputs": [
    {
     "name": "stdout",
     "output_type": "stream",
     "text": [
      "(10000, 784) (10000,)\n"
     ]
    }
   ],
   "source": [
    "print(test_std.shape, test_label.shape)"
   ]
  },
  {
   "cell_type": "code",
   "execution_count": 32,
   "metadata": {},
   "outputs": [],
   "source": [
    "class SVM(object):\n",
    "    def __init__(self, C=0.1, eta=0.001, batch_size=128, epochs=25, class_num=0, shuffle=True):\n",
    "        self.C = C\n",
    "        self.eta = eta\n",
    "        self.batch_size = batch_size\n",
    "        self.epochs = epochs\n",
    "        self.class_num = class_num\n",
    "        self.shuffle = shuffle\n",
    "    \n",
    "    def fit(self, X, y):\n",
    "        X_n, X_f = np.shape(X) # X_n = 60000(data pts), X_f = 784(features)\n",
    "        self.class_num = len(np.unique(y)) # class_num = 10\n",
    "        \n",
    "        # OvR\n",
    "        y_ovr = self.ovr(y)\n",
    "        \n",
    "        ## initialize w, b\n",
    "        self.w = np.random.randn(X_f, self.class_num) # (784,10)\n",
    "        self.b = np.random.randn(1, self.class_num)\n",
    "        \n",
    "        for epoch in range(self.epochs):\n",
    "            if self.shuffle:\n",
    "                X_shuffled, y_shuffled = self.shuffles(X, y_ovr)\n",
    "            \n",
    "            # batch_count = dataset_size / batch_size\n",
    "            batch_count = math.ceil(X.shape[0] / self.batch_size)\n",
    "            for a in range(batch_count):\n",
    "                X_batch = X[self.batch_size*a:self.batch_size*(a+1)] # X_batch[batch_size][784]\n",
    "                y_batch = y[self.batch_size*a:self.batch_size*(a+1)] # y_batch[batch_size][784]\n",
    "                \n",
    "                sum_w = np.zeros(X_f)\n",
    "                sum_b = 0.0\n",
    "                \n",
    "                \n",
    "#                for Xi, yi in zip(X_batch, y_batch):\n",
    "#                    loss = self.hinge_loss(Xi, yi, self.w, self.b) # loss[batch_size][class_num]\n",
    "#                    if loss < 1: # yi*(np.dot(Xi, self.w) + self.b)\n",
    "#                        sum_w += (-yi*Xi)\n",
    "#                        sum_b += (-yi)\n",
    "                loss = self.hinge_loss(X_batch, y_batch)\n",
    "                if loss < 1:\n",
    "                    sum_w += (-y_batch*X_batch)\n",
    "                    sum_b += (-y_batch)\n",
    "                self.w = self.w - (self.eta * ((sum_w/batch_size)+(1/self.C)*self.w))\n",
    "                self.b = self.b - self.eta * sum_b / batch_size\n",
    "    \n",
    "    def ovr(self, y):\n",
    "        y_ovr = np.ones((np.shape(y)[0], self.class_num)) # y_ovr[60000][class_num]\n",
    "        \n",
    "        for i in range(self.class_num):\n",
    "            y_ovr[:, i][y != i] = -1\n",
    "        return y_ovr\n",
    "    \n",
    "    def shuffles(self, X, y):\n",
    "        ran = np.arange(0, np.shape(X)[0])\n",
    "        np.random.shuffle(ran)\n",
    "        return X[ran], y[ran]\n",
    "    \n",
    "    def hinge_loss(self, X, y):\n",
    "        loss = y*(np.dot(X, self.w) + self.b) # yi * (Wi*Xi+b)\n",
    "        return loss\n",
    "    \n",
    "    def predict(self, X):\n",
    "        score = np.dot(X, self.w) + self.b\n",
    "        pred = np.argmax(class_score, axis=1)\n",
    "        return pred\n",
    "    \n",
    "    def score(self, X, y):\n",
    "        pred = self.predict(X)\n",
    "        sc = np.mean(pred == y)\n",
    "        \n",
    "        return score"
   ]
  },
  {
   "cell_type": "code",
   "execution_count": 33,
   "metadata": {},
   "outputs": [
    {
     "ename": "ValueError",
     "evalue": "operands could not be broadcast together with shapes (128,) (128,10) ",
     "output_type": "error",
     "traceback": [
      "\u001b[1;31m---------------------------------------------------------------------------\u001b[0m",
      "\u001b[1;31mValueError\u001b[0m                                Traceback (most recent call last)",
      "\u001b[1;32m<ipython-input-33-09df8d1cc18b>\u001b[0m in \u001b[0;36m<module>\u001b[1;34m\u001b[0m\n\u001b[0;32m      1\u001b[0m \u001b[0msvm\u001b[0m \u001b[1;33m=\u001b[0m \u001b[0mSVM\u001b[0m\u001b[1;33m(\u001b[0m\u001b[1;33m)\u001b[0m\u001b[1;33m\u001b[0m\u001b[1;33m\u001b[0m\u001b[0m\n\u001b[1;32m----> 2\u001b[1;33m \u001b[0mresult\u001b[0m \u001b[1;33m=\u001b[0m \u001b[0msvm\u001b[0m\u001b[1;33m.\u001b[0m\u001b[0mfit\u001b[0m\u001b[1;33m(\u001b[0m\u001b[0mtrain_std\u001b[0m\u001b[1;33m,\u001b[0m \u001b[0mtrain_label\u001b[0m\u001b[1;33m)\u001b[0m\u001b[1;33m\u001b[0m\u001b[1;33m\u001b[0m\u001b[0m\n\u001b[0m",
      "\u001b[1;32m<ipython-input-32-b5642f14d012>\u001b[0m in \u001b[0;36mfit\u001b[1;34m(self, X, y)\u001b[0m\n\u001b[0;32m     38\u001b[0m \u001b[1;31m#                        sum_w += (-yi*Xi)\u001b[0m\u001b[1;33m\u001b[0m\u001b[1;33m\u001b[0m\u001b[1;33m\u001b[0m\u001b[0m\n\u001b[0;32m     39\u001b[0m \u001b[1;31m#                        sum_b += (-yi)\u001b[0m\u001b[1;33m\u001b[0m\u001b[1;33m\u001b[0m\u001b[1;33m\u001b[0m\u001b[0m\n\u001b[1;32m---> 40\u001b[1;33m                 \u001b[0mloss\u001b[0m \u001b[1;33m=\u001b[0m \u001b[0mself\u001b[0m\u001b[1;33m.\u001b[0m\u001b[0mhinge_loss\u001b[0m\u001b[1;33m(\u001b[0m\u001b[0mX_batch\u001b[0m\u001b[1;33m,\u001b[0m \u001b[0my_batch\u001b[0m\u001b[1;33m)\u001b[0m\u001b[1;33m\u001b[0m\u001b[1;33m\u001b[0m\u001b[0m\n\u001b[0m\u001b[0;32m     41\u001b[0m                 \u001b[1;32mif\u001b[0m \u001b[0mloss\u001b[0m \u001b[1;33m<\u001b[0m \u001b[1;36m1\u001b[0m\u001b[1;33m:\u001b[0m\u001b[1;33m\u001b[0m\u001b[1;33m\u001b[0m\u001b[0m\n\u001b[0;32m     42\u001b[0m                     \u001b[0msum_w\u001b[0m \u001b[1;33m+=\u001b[0m \u001b[1;33m(\u001b[0m\u001b[1;33m-\u001b[0m\u001b[0my_batch\u001b[0m\u001b[1;33m*\u001b[0m\u001b[0mX_batch\u001b[0m\u001b[1;33m)\u001b[0m\u001b[1;33m\u001b[0m\u001b[1;33m\u001b[0m\u001b[0m\n",
      "\u001b[1;32m<ipython-input-32-b5642f14d012>\u001b[0m in \u001b[0;36mhinge_loss\u001b[1;34m(self, X, y)\u001b[0m\n\u001b[0;32m     58\u001b[0m \u001b[1;33m\u001b[0m\u001b[0m\n\u001b[0;32m     59\u001b[0m     \u001b[1;32mdef\u001b[0m \u001b[0mhinge_loss\u001b[0m\u001b[1;33m(\u001b[0m\u001b[0mself\u001b[0m\u001b[1;33m,\u001b[0m \u001b[0mX\u001b[0m\u001b[1;33m,\u001b[0m \u001b[0my\u001b[0m\u001b[1;33m)\u001b[0m\u001b[1;33m:\u001b[0m\u001b[1;33m\u001b[0m\u001b[1;33m\u001b[0m\u001b[0m\n\u001b[1;32m---> 60\u001b[1;33m         \u001b[0mloss\u001b[0m \u001b[1;33m=\u001b[0m \u001b[0my\u001b[0m\u001b[1;33m*\u001b[0m\u001b[1;33m(\u001b[0m\u001b[0mnp\u001b[0m\u001b[1;33m.\u001b[0m\u001b[0mdot\u001b[0m\u001b[1;33m(\u001b[0m\u001b[0mX\u001b[0m\u001b[1;33m,\u001b[0m \u001b[0mself\u001b[0m\u001b[1;33m.\u001b[0m\u001b[0mw\u001b[0m\u001b[1;33m)\u001b[0m \u001b[1;33m+\u001b[0m \u001b[0mself\u001b[0m\u001b[1;33m.\u001b[0m\u001b[0mb\u001b[0m\u001b[1;33m)\u001b[0m \u001b[1;31m# yi * (Wi*Xi+b)\u001b[0m\u001b[1;33m\u001b[0m\u001b[1;33m\u001b[0m\u001b[0m\n\u001b[0m\u001b[0;32m     61\u001b[0m         \u001b[1;32mreturn\u001b[0m \u001b[0mloss\u001b[0m\u001b[1;33m\u001b[0m\u001b[1;33m\u001b[0m\u001b[0m\n\u001b[0;32m     62\u001b[0m \u001b[1;33m\u001b[0m\u001b[0m\n",
      "\u001b[1;31mValueError\u001b[0m: operands could not be broadcast together with shapes (128,) (128,10) "
     ]
    }
   ],
   "source": [
    "svm = SVM()\n",
    "result = svm.fit(train_std, train_label)"
   ]
  },
  {
   "cell_type": "code",
   "execution_count": null,
   "metadata": {},
   "outputs": [],
   "source": []
  }
 ],
 "metadata": {
  "kernelspec": {
   "display_name": "Python 3",
   "language": "python",
   "name": "python3"
  },
  "language_info": {
   "codemirror_mode": {
    "name": "ipython",
    "version": 3
   },
   "file_extension": ".py",
   "mimetype": "text/x-python",
   "name": "python",
   "nbconvert_exporter": "python",
   "pygments_lexer": "ipython3",
   "version": "3.7.4"
  }
 },
 "nbformat": 4,
 "nbformat_minor": 2
}
